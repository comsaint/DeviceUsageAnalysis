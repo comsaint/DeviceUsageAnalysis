{
 "cells": [
  {
   "cell_type": "code",
   "execution_count": 234,
   "metadata": {
    "collapsed": false
   },
   "outputs": [
    {
     "data": {
      "text/plain": [
       "<module 'metric' from 'D:\\\\device_usage\\\\metric.py'>"
      ]
     },
     "execution_count": 234,
     "metadata": {},
     "output_type": "execute_result"
    }
   ],
   "source": [
    "from importlib import reload\n",
    "reload(metric)"
   ]
  },
  {
   "cell_type": "code",
   "execution_count": 235,
   "metadata": {
    "collapsed": false
   },
   "outputs": [],
   "source": [
    "import pandas as pd\n",
    "from schema import schema\n",
    "import metric\n",
    "from metric import *"
   ]
  },
  {
   "cell_type": "code",
   "execution_count": 159,
   "metadata": {
    "collapsed": false
   },
   "outputs": [],
   "source": [
    "# Read data\n",
    "df = pd.read_csv(r'data.csv', dtype=schema, encoding='utf-8')\n",
    "# Pre-processing\n",
    "df.drop(['state'], axis=1, inplace=True)\n",
    "df.fillna(0, inplace=True)"
   ]
  },
  {
   "cell_type": "code",
   "execution_count": 160,
   "metadata": {
    "collapsed": false
   },
   "outputs": [
    {
     "data": {
      "text/plain": [
       "10.0      847459\n",
       "0.0       188760\n",
       "30.0       63016\n",
       "6.0            5\n",
       "2048.0         2\n",
       "1024.0         2\n",
       "Name: plan_c, dtype: int64"
      ]
     },
     "execution_count": 160,
     "metadata": {},
     "output_type": "execute_result"
    }
   ],
   "source": [
    "df['plan_c'].value_counts()"
   ]
  },
  {
   "cell_type": "code",
   "execution_count": 161,
   "metadata": {
    "collapsed": true
   },
   "outputs": [],
   "source": [
    "# Remove outlier  (plan_c == 6)\n",
    "df = df[df['plan_c']!=6]"
   ]
  },
  {
   "cell_type": "code",
   "execution_count": 176,
   "metadata": {
    "collapsed": true
   },
   "outputs": [],
   "source": [
    "# Assign all $0 plan to $10\n",
    "df_nozeroplan = df.copy()\n",
    "df_nozeroplan['plan_c'] = df['plan_c'].replace(0.0, 10.0)"
   ]
  },
  {
   "cell_type": "code",
   "execution_count": 163,
   "metadata": {
    "collapsed": false
   },
   "outputs": [],
   "source": [
    "df['best_plan'] = df['used'].apply(get_best_plan)"
   ]
  },
  {
   "cell_type": "code",
   "execution_count": 164,
   "metadata": {
    "collapsed": false
   },
   "outputs": [
    {
     "data": {
      "text/plain": [
       "2       451771\n",
       "5       363756\n",
       "10      272963\n",
       "30        8477\n",
       "100       1436\n",
       "300        671\n",
       "500        135\n",
       "700         21\n",
       "2048         5\n",
       "1024         4\n",
       "Name: best_plan, dtype: int64"
      ]
     },
     "execution_count": 164,
     "metadata": {},
     "output_type": "execute_result"
    }
   ],
   "source": [
    "df['best_plan'].value_counts()"
   ]
  },
  {
   "cell_type": "code",
   "execution_count": 165,
   "metadata": {
    "collapsed": false
   },
   "outputs": [
    {
     "data": {
      "text/html": [
       "<div>\n",
       "<style scoped>\n",
       "    .dataframe tbody tr th:only-of-type {\n",
       "        vertical-align: middle;\n",
       "    }\n",
       "\n",
       "    .dataframe tbody tr th {\n",
       "        vertical-align: top;\n",
       "    }\n",
       "\n",
       "    .dataframe thead th {\n",
       "        text-align: right;\n",
       "    }\n",
       "</style>\n",
       "<table border=\"1\" class=\"dataframe\">\n",
       "  <thead>\n",
       "    <tr style=\"text-align: right;\">\n",
       "      <th></th>\n",
       "      <th>iccid</th>\n",
       "      <th>used</th>\n",
       "      <th>plan_c</th>\n",
       "      <th>left</th>\n",
       "      <th>ac_time</th>\n",
       "      <th>product</th>\n",
       "      <th>company</th>\n",
       "      <th>carrier</th>\n",
       "      <th>plan_s</th>\n",
       "      <th>month</th>\n",
       "    </tr>\n",
       "  </thead>\n",
       "  <tbody>\n",
       "    <tr>\n",
       "      <th>0</th>\n",
       "      <td>898607B4071790000000</td>\n",
       "      <td>3.931</td>\n",
       "      <td>10.0</td>\n",
       "      <td>6.069</td>\n",
       "      <td>2018-01-16 15:21:11</td>\n",
       "      <td>SPB132</td>\n",
       "      <td>挚享科技（上海）有限公司</td>\n",
       "      <td>北京华虹</td>\n",
       "      <td>10.0</td>\n",
       "      <td>2</td>\n",
       "    </tr>\n",
       "    <tr>\n",
       "      <th>1</th>\n",
       "      <td>898607B4071790000001</td>\n",
       "      <td>0.000</td>\n",
       "      <td>10.0</td>\n",
       "      <td>10.000</td>\n",
       "      <td>2018-01-16 15:21:44</td>\n",
       "      <td>SPB132</td>\n",
       "      <td>挚享科技（上海）有限公司</td>\n",
       "      <td>北京华虹</td>\n",
       "      <td>10.0</td>\n",
       "      <td>2</td>\n",
       "    </tr>\n",
       "    <tr>\n",
       "      <th>2</th>\n",
       "      <td>898607B4071790000002</td>\n",
       "      <td>4.877</td>\n",
       "      <td>10.0</td>\n",
       "      <td>5.123</td>\n",
       "      <td>2018-01-16 15:19:09</td>\n",
       "      <td>SPB132</td>\n",
       "      <td>挚享科技（上海）有限公司</td>\n",
       "      <td>北京华虹</td>\n",
       "      <td>10.0</td>\n",
       "      <td>2</td>\n",
       "    </tr>\n",
       "    <tr>\n",
       "      <th>3</th>\n",
       "      <td>898607B4071790000003</td>\n",
       "      <td>4.259</td>\n",
       "      <td>10.0</td>\n",
       "      <td>5.741</td>\n",
       "      <td>2018-02-09 11:10:04</td>\n",
       "      <td>SPB132</td>\n",
       "      <td>挚享科技（上海）有限公司</td>\n",
       "      <td>北京华虹</td>\n",
       "      <td>10.0</td>\n",
       "      <td>2</td>\n",
       "    </tr>\n",
       "    <tr>\n",
       "      <th>4</th>\n",
       "      <td>898607B4071790000004</td>\n",
       "      <td>1.740</td>\n",
       "      <td>10.0</td>\n",
       "      <td>8.260</td>\n",
       "      <td>2018-01-16 15:21:28</td>\n",
       "      <td>SPB132</td>\n",
       "      <td>挚享科技（上海）有限公司</td>\n",
       "      <td>北京华虹</td>\n",
       "      <td>10.0</td>\n",
       "      <td>2</td>\n",
       "    </tr>\n",
       "  </tbody>\n",
       "</table>\n",
       "</div>"
      ],
      "text/plain": [
       "                  iccid   used  plan_c    left              ac_time product  \\\n",
       "0  898607B4071790000000  3.931    10.0   6.069  2018-01-16 15:21:11  SPB132   \n",
       "1  898607B4071790000001  0.000    10.0  10.000  2018-01-16 15:21:44  SPB132   \n",
       "2  898607B4071790000002  4.877    10.0   5.123  2018-01-16 15:19:09  SPB132   \n",
       "3  898607B4071790000003  4.259    10.0   5.741  2018-02-09 11:10:04  SPB132   \n",
       "4  898607B4071790000004  1.740    10.0   8.260  2018-01-16 15:21:28  SPB132   \n",
       "\n",
       "        company carrier  plan_s  month  \n",
       "0  挚享科技（上海）有限公司    北京华虹    10.0      2  \n",
       "1  挚享科技（上海）有限公司    北京华虹    10.0      2  \n",
       "2  挚享科技（上海）有限公司    北京华虹    10.0      2  \n",
       "3  挚享科技（上海）有限公司    北京华虹    10.0      2  \n",
       "4  挚享科技（上海）有限公司    北京华虹    10.0      2  "
      ]
     },
     "execution_count": 165,
     "metadata": {},
     "output_type": "execute_result"
    }
   ],
   "source": [
    "df_nozeroplan.head()"
   ]
  },
  {
   "cell_type": "code",
   "execution_count": 166,
   "metadata": {
    "collapsed": false
   },
   "outputs": [
    {
     "data": {
      "text/plain": [
       "10.0      1036219\n",
       "30.0        63016\n",
       "2048.0          2\n",
       "1024.0          2\n",
       "Name: plan_c, dtype: int64"
      ]
     },
     "execution_count": 166,
     "metadata": {},
     "output_type": "execute_result"
    }
   ],
   "source": [
    "df_nozeroplan['plan_c'].value_counts()"
   ]
  },
  {
   "cell_type": "markdown",
   "metadata": {},
   "source": [
    "Calculate best plan to subscribe to for each device, without considering data pool."
   ]
  },
  {
   "cell_type": "code",
   "execution_count": 177,
   "metadata": {
    "collapsed": false
   },
   "outputs": [],
   "source": [
    "df_nozeroplan['best_plan'] = df_nozeroplan['used'].apply(get_best_plan)"
   ]
  },
  {
   "cell_type": "code",
   "execution_count": 178,
   "metadata": {
    "collapsed": false
   },
   "outputs": [
    {
     "data": {
      "text/html": [
       "<div>\n",
       "<style scoped>\n",
       "    .dataframe tbody tr th:only-of-type {\n",
       "        vertical-align: middle;\n",
       "    }\n",
       "\n",
       "    .dataframe tbody tr th {\n",
       "        vertical-align: top;\n",
       "    }\n",
       "\n",
       "    .dataframe thead th {\n",
       "        text-align: right;\n",
       "    }\n",
       "</style>\n",
       "<table border=\"1\" class=\"dataframe\">\n",
       "  <thead>\n",
       "    <tr style=\"text-align: right;\">\n",
       "      <th></th>\n",
       "      <th>iccid</th>\n",
       "      <th>used</th>\n",
       "      <th>plan_c</th>\n",
       "      <th>left</th>\n",
       "      <th>ac_time</th>\n",
       "      <th>product</th>\n",
       "      <th>company</th>\n",
       "      <th>carrier</th>\n",
       "      <th>plan_s</th>\n",
       "      <th>month</th>\n",
       "      <th>best_plan</th>\n",
       "    </tr>\n",
       "  </thead>\n",
       "  <tbody>\n",
       "    <tr>\n",
       "      <th>0</th>\n",
       "      <td>898607B4071790000000</td>\n",
       "      <td>3.931</td>\n",
       "      <td>10.0</td>\n",
       "      <td>6.069</td>\n",
       "      <td>2018-01-16 15:21:11</td>\n",
       "      <td>SPB132</td>\n",
       "      <td>挚享科技（上海）有限公司</td>\n",
       "      <td>北京华虹</td>\n",
       "      <td>10.0</td>\n",
       "      <td>2</td>\n",
       "      <td>5</td>\n",
       "    </tr>\n",
       "    <tr>\n",
       "      <th>1</th>\n",
       "      <td>898607B4071790000001</td>\n",
       "      <td>0.000</td>\n",
       "      <td>10.0</td>\n",
       "      <td>10.000</td>\n",
       "      <td>2018-01-16 15:21:44</td>\n",
       "      <td>SPB132</td>\n",
       "      <td>挚享科技（上海）有限公司</td>\n",
       "      <td>北京华虹</td>\n",
       "      <td>10.0</td>\n",
       "      <td>2</td>\n",
       "      <td>2</td>\n",
       "    </tr>\n",
       "    <tr>\n",
       "      <th>2</th>\n",
       "      <td>898607B4071790000002</td>\n",
       "      <td>4.877</td>\n",
       "      <td>10.0</td>\n",
       "      <td>5.123</td>\n",
       "      <td>2018-01-16 15:19:09</td>\n",
       "      <td>SPB132</td>\n",
       "      <td>挚享科技（上海）有限公司</td>\n",
       "      <td>北京华虹</td>\n",
       "      <td>10.0</td>\n",
       "      <td>2</td>\n",
       "      <td>5</td>\n",
       "    </tr>\n",
       "    <tr>\n",
       "      <th>3</th>\n",
       "      <td>898607B4071790000003</td>\n",
       "      <td>4.259</td>\n",
       "      <td>10.0</td>\n",
       "      <td>5.741</td>\n",
       "      <td>2018-02-09 11:10:04</td>\n",
       "      <td>SPB132</td>\n",
       "      <td>挚享科技（上海）有限公司</td>\n",
       "      <td>北京华虹</td>\n",
       "      <td>10.0</td>\n",
       "      <td>2</td>\n",
       "      <td>5</td>\n",
       "    </tr>\n",
       "    <tr>\n",
       "      <th>4</th>\n",
       "      <td>898607B4071790000004</td>\n",
       "      <td>1.740</td>\n",
       "      <td>10.0</td>\n",
       "      <td>8.260</td>\n",
       "      <td>2018-01-16 15:21:28</td>\n",
       "      <td>SPB132</td>\n",
       "      <td>挚享科技（上海）有限公司</td>\n",
       "      <td>北京华虹</td>\n",
       "      <td>10.0</td>\n",
       "      <td>2</td>\n",
       "      <td>2</td>\n",
       "    </tr>\n",
       "  </tbody>\n",
       "</table>\n",
       "</div>"
      ],
      "text/plain": [
       "                  iccid   used  plan_c    left              ac_time product  \\\n",
       "0  898607B4071790000000  3.931    10.0   6.069  2018-01-16 15:21:11  SPB132   \n",
       "1  898607B4071790000001  0.000    10.0  10.000  2018-01-16 15:21:44  SPB132   \n",
       "2  898607B4071790000002  4.877    10.0   5.123  2018-01-16 15:19:09  SPB132   \n",
       "3  898607B4071790000003  4.259    10.0   5.741  2018-02-09 11:10:04  SPB132   \n",
       "4  898607B4071790000004  1.740    10.0   8.260  2018-01-16 15:21:28  SPB132   \n",
       "\n",
       "        company carrier  plan_s  month  best_plan  \n",
       "0  挚享科技（上海）有限公司    北京华虹    10.0      2          5  \n",
       "1  挚享科技（上海）有限公司    北京华虹    10.0      2          2  \n",
       "2  挚享科技（上海）有限公司    北京华虹    10.0      2          5  \n",
       "3  挚享科技（上海）有限公司    北京华虹    10.0      2          5  \n",
       "4  挚享科技（上海）有限公司    北京华虹    10.0      2          2  "
      ]
     },
     "execution_count": 178,
     "metadata": {},
     "output_type": "execute_result"
    }
   ],
   "source": [
    "df_nozeroplan.head()"
   ]
  },
  {
   "cell_type": "code",
   "execution_count": 180,
   "metadata": {
    "collapsed": false
   },
   "outputs": [
    {
     "data": {
      "text/plain": [
       "2       451771\n",
       "5       363756\n",
       "10      272963\n",
       "30        8477\n",
       "100       1436\n",
       "300        671\n",
       "500        135\n",
       "700         21\n",
       "2048         5\n",
       "1024         4\n",
       "Name: best_plan, dtype: int64"
      ]
     },
     "execution_count": 180,
     "metadata": {},
     "output_type": "execute_result"
    }
   ],
   "source": [
    "df_nozeroplan['best_plan'].value_counts()"
   ]
  },
  {
   "cell_type": "code",
   "execution_count": null,
   "metadata": {
    "collapsed": false
   },
   "outputs": [],
   "source": [
    "# Actual cost in previous months, using 0 MB for all plan_c == 0 devices\n",
    "cost_original = dict()\n",
    "for i in [2,3,4,5]:\n",
    "    cost_original.update({i: calculate_cost_with_data_pool(df[df['month']==i])})\n",
    "print(cost_original)"
   ]
  },
  {
   "cell_type": "code",
   "execution_count": 238,
   "metadata": {
    "collapsed": false
   },
   "outputs": [
    {
     "name": "stdout",
     "output_type": "stream",
     "text": [
      "Total devices: 202974\n",
      "Total cost: 631332.0\n",
      "Total usage:803452.0540000113\n",
      "   plan_c   count        used  pool_size  remaining_quota  pool_utilization  \\\n",
      "0    10.0  191769  722826.027  1917690.0      1194863.973          0.376925   \n",
      "1    30.0   11205   80626.027   336150.0       255523.973          0.239851   \n",
      "\n",
      "   plan_cost  extra_cost  total_cost  \n",
      "0   575307.0           0    575307.0  \n",
      "1    56025.0           0     56025.0  \n",
      "Total devices: 207341\n",
      "Total cost: 645285.0\n",
      "Total usage:942648.4099999964\n",
      "   plan_c   count        used  pool_size  remaining_quota  pool_utilization  \\\n",
      "0    10.0  195710  830002.003  1957100.0      1127097.997          0.424098   \n",
      "1    30.0   11631  112646.407   348930.0       236283.593          0.322834   \n",
      "\n",
      "   plan_cost  extra_cost  total_cost  \n",
      "0   587130.0           0    587130.0  \n",
      "1    58155.0           0     58155.0  \n",
      "Total devices: 215835\n",
      "Total cost: 674167.0\n",
      "Total usage:981954.5119999921\n",
      "   plan_c   count        used  pool_size  remaining_quota  pool_utilization  \\\n",
      "0    10.0  202504  858622.366  2025040.0      1166417.634          0.424003   \n",
      "1    30.0   13331  123332.146   399930.0       276597.854          0.308384   \n",
      "\n",
      "   plan_cost  extra_cost  total_cost  \n",
      "0   607512.0           0    607512.0  \n",
      "1    66655.0           0     66655.0  \n",
      "Total devices: 233203\n",
      "Total cost: 726531.0\n",
      "Total usage:950692.2800000032\n",
      "   plan_c   count        used  pool_size  remaining_quota  pool_utilization  \\\n",
      "0    10.0  219787  825937.932  2197870.0      1371932.068          0.375790   \n",
      "1    30.0   13414  124751.802   402420.0       277668.198          0.310004   \n",
      "2  1024.0       1       2.522     1024.0         1021.478          0.002463   \n",
      "3  2048.0       1       0.024     2048.0         2047.976          0.000012   \n",
      "\n",
      "   plan_cost  extra_cost  total_cost  \n",
      "0   659361.0           0    659361.0  \n",
      "1    67070.0           0     67070.0  \n",
      "2       40.0           0        40.0  \n",
      "3       60.0           0        60.0  \n",
      "{2: 631332.0, 3: 645285.0, 4: 674167.0, 5: 726531.0}\n"
     ]
    }
   ],
   "source": [
    "# Actual cost in previous months, using 10 MB for all plan_c == 0 devices\n",
    "cost_nozeroplan = dict()\n",
    "for i in [2,3,4,5]:\n",
    "    best_cost = calculate_cost_with_data_pool(df_nozeroplan[df_nozeroplan['month']==i], verbose=True)\n",
    "    cost_nozeroplan.update({i: best_cost})\n",
    "print(cost_nozeroplan)  # beware, this cost assumes all plan_c==0 are using 10 MB plan"
   ]
  },
  {
   "cell_type": "code",
   "execution_count": 239,
   "metadata": {
    "collapsed": false
   },
   "outputs": [
    {
     "name": "stdout",
     "output_type": "stream",
     "text": [
      "Month: 2\n",
      "Total devices: 202974\n",
      "Total cost: 366133.0\n",
      "Total usage:803452.053999995\n",
      "   best_plan   count        used  pool_size  remaining_quota  \\\n",
      "0          2   52916   51794.632     105832        54037.368   \n",
      "1          5  140749  640646.656     703745        63098.344   \n",
      "2         10    7760   65716.938      77600        11883.062   \n",
      "3         30    1435   31081.186      43050        11968.814   \n",
      "4        100      84    5441.666       8400         2958.334   \n",
      "5        300      20    4088.497       6000         1911.503   \n",
      "6        500       6    2357.997       3000          642.003   \n",
      "7        700       4    2324.482       2800          475.518   \n",
      "\n",
      "   pool_utilization  plan_cost  extra_cost  total_cost  \n",
      "0          0.489404    52916.0           0     52916.0  \n",
      "1          0.910339   281498.0           0    281498.0  \n",
      "2          0.846868    23280.0           0     23280.0  \n",
      "3          0.721979     7175.0           0      7175.0  \n",
      "4          0.647817      672.0           0       672.0  \n",
      "5          0.681416      320.0           0       320.0  \n",
      "6          0.785999      144.0           0       144.0  \n",
      "7          0.830172      128.0           0       128.0  \n",
      "Month: 3\n",
      "Total devices: 207341\n",
      "Total cost: 418069.0\n",
      "Total usage:942648.4100000007\n",
      "   best_plan  count        used  pool_size  remaining_quota  pool_utilization  \\\n",
      "0          2  60554   38736.292     121108        82371.708          0.319849   \n",
      "1          5  88960  438650.107     444800         6149.893          0.986174   \n",
      "2         10  55510  386220.831     555100       168879.169          0.695768   \n",
      "3         30   2081   49194.947      62430        13235.053          0.788002   \n",
      "4        100    173   10528.565      17300         6771.435          0.608588   \n",
      "5        300     45    8762.201      13500         4737.799          0.649052   \n",
      "6        500      8    3197.361       4000          802.639          0.799340   \n",
      "7        700      7    4321.226       4900          578.774          0.881883   \n",
      "8       1024      2    1543.787       2048          504.213          0.753802   \n",
      "9       2048      1    1493.093       2048          554.907          0.729049   \n",
      "\n",
      "   plan_cost  extra_cost  total_cost  \n",
      "0    60554.0           0     60554.0  \n",
      "1   177920.0           0    177920.0  \n",
      "2   166530.0           0    166530.0  \n",
      "3    10405.0           0     10405.0  \n",
      "4     1384.0           0      1384.0  \n",
      "5      720.0           0       720.0  \n",
      "6      192.0           0       192.0  \n",
      "7      224.0           0       224.0  \n",
      "8       80.0           0        80.0  \n",
      "9       60.0           0        60.0  \n",
      "Month: 4\n",
      "Total devices: 215835\n",
      "Total cost: 447816.0\n",
      "Total usage:981954.512000002\n",
      "   best_plan  count        used  pool_size  remaining_quota  pool_utilization  \\\n",
      "0          2  82128   26398.551     164256       137857.449          0.160716   \n",
      "1          5  41719  190502.157     208595        18092.843          0.913263   \n",
      "2         10  89661  684700.802     896610       211909.198          0.763655   \n",
      "3         30   2027   46371.616      60810        14438.384          0.762566   \n",
      "4        100    240   15330.382      24000         8669.618          0.638766   \n",
      "5        300     38    7670.419      11400         3729.581          0.672844   \n",
      "6        500     16    6351.874       8000         1648.126          0.793984   \n",
      "7        700      5    2931.263       3500          568.737          0.837504   \n",
      "8       2048      1    1697.448       2048          350.552          0.828832   \n",
      "\n",
      "   plan_cost  extra_cost  total_cost  \n",
      "0    82128.0           0     82128.0  \n",
      "1    83438.0           0     83438.0  \n",
      "2   268983.0           0    268983.0  \n",
      "3    10135.0           0     10135.0  \n",
      "4     1920.0           0      1920.0  \n",
      "5      608.0           0       608.0  \n",
      "6      384.0           0       384.0  \n",
      "7      160.0           0       160.0  \n",
      "8       60.0           0        60.0  \n",
      "Month: 5\n",
      "Total devices: 233203\n",
      "Total cost: 438988.0\n",
      "Total usage:950692.2800000111\n",
      "   best_plan   count        used  pool_size  remaining_quota  \\\n",
      "0          2  116771   29741.813     233542       203800.187   \n",
      "1          5   35669  162086.225     178345        16258.775   \n",
      "2         10   78600  633006.790     786000       152993.210   \n",
      "3         30    1643   38385.575      49290        10904.425   \n",
      "4        100     294   18950.044      29400        10449.956   \n",
      "5        300     130   27442.960      39000        11557.040   \n",
      "6        500      88   34216.274      44000         9783.726   \n",
      "7        700       5    2935.538       3500          564.462   \n",
      "8       1024       1     966.627       1024           57.373   \n",
      "9       2048       2    2960.434       4096         1135.566   \n",
      "\n",
      "   pool_utilization  plan_cost  extra_cost  total_cost  \n",
      "0          0.127351   116771.0           0    116771.0  \n",
      "1          0.908835    71338.0           0     71338.0  \n",
      "2          0.805352   235800.0           0    235800.0  \n",
      "3          0.778770     8215.0           0      8215.0  \n",
      "4          0.644559     2352.0           0      2352.0  \n",
      "5          0.703666     2080.0           0      2080.0  \n",
      "6          0.777643     2112.0           0      2112.0  \n",
      "7          0.838725      160.0           0       160.0  \n",
      "8          0.943972       40.0           0        40.0  \n",
      "9          0.722762      120.0           0       120.0  \n",
      "{2: 366133.0, 3: 418069.0, 4: 447816.0, 5: 438988.0}\n"
     ]
    }
   ],
   "source": [
    "# Best plan cost\n",
    "cost_best_plan = dict()\n",
    "for i in [2,3,4,5]:\n",
    "    print(\"Month: {}\".format(i))\n",
    "    best_cost = calculate_cost_with_data_pool(df[df['month']==i], col_plan = 'best_plan', verbose=True)\n",
    "    cost_best_plan.update({i: best_cost})\n",
    "print(cost_best_plan)"
   ]
  },
  {
   "cell_type": "markdown",
   "metadata": {},
   "source": [
    "# Strategy_1\n",
    "## Rules\n",
    "1. If a device was activated before this month, use last month's usage as prediction and evaluate this month's plan.\n",
    "2. If a device was not activated before this month (i.e. first seen this month), use plan_s as this month's plan."
   ]
  },
  {
   "cell_type": "code",
   "execution_count": 237,
   "metadata": {
    "collapsed": false
   },
   "outputs": [
    {
     "name": "stdout",
     "output_type": "stream",
     "text": [
      "Month 3:\n",
      "Total devices: 207341\n",
      "Total cost: 395978.317631997\n",
      "Total usage:942648.409999997\n",
      "    plan_st_1   count        used  pool_size  remaining_quota  \\\n",
      "0         2.0   52916   89147.630   105832.0        16684.370   \n",
      "1         5.0  140749  714625.193   703745.0       -10880.193   \n",
      "2        10.0    9438   78976.325    94380.0        15403.675   \n",
      "3        30.0    4121   44771.055   123630.0        78858.945   \n",
      "4       100.0      84    5248.153     8400.0         3151.847   \n",
      "5       300.0      20    4928.189     6000.0         1071.811   \n",
      "6       500.0       6    2723.587     3000.0          276.413   \n",
      "7       700.0       4    2208.745     2800.0          591.255   \n",
      "8      2048.0       1      15.853     2048.0         2032.147   \n",
      "9      3072.0       1       0.000     3072.0         3072.000   \n",
      "10     4096.0       1       3.680     4096.0         4092.320   \n",
      "\n",
      "    pool_utilization  plan_cost    extra_cost     total_cost  \n",
      "0           0.842350    52916.0      0.000000   52916.000000  \n",
      "1           1.015460   281498.0  11141.317632  292639.317632  \n",
      "2           0.836791    28314.0      0.000000   28314.000000  \n",
      "3           0.362137    20605.0      0.000000   20605.000000  \n",
      "4           0.624780      672.0      0.000000     672.000000  \n",
      "5           0.821365      320.0      0.000000     320.000000  \n",
      "6           0.907862      144.0      0.000000     144.000000  \n",
      "7           0.788837      128.0      0.000000     128.000000  \n",
      "8           0.007741       60.0      0.000000      60.000000  \n",
      "9           0.000000       80.0      0.000000      80.000000  \n",
      "10          0.000898      100.0      0.000000     100.000000  \n",
      "Month 4:\n",
      "Total devices: 215835\n",
      "Total cost: 459697.0\n",
      "Total usage:981954.5120000028\n",
      "   plan_st_1  count        used  pool_size  remaining_quota  pool_utilization  \\\n",
      "0        2.0  60554   53883.648   121108.0        67224.352          0.444922   \n",
      "1        5.0  88959  444506.089   444795.0          288.911          0.999350   \n",
      "2       10.0  56835  396592.196   568350.0       171757.804          0.697796   \n",
      "3       30.0   9156   59670.453   274680.0       215009.547          0.217236   \n",
      "4      100.0    173    9403.529    17300.0         7896.471          0.543557   \n",
      "5      300.0     45    5879.861    13500.0         7620.139          0.435545   \n",
      "6      500.0    103    7469.658    51500.0        44030.342          0.145042   \n",
      "7      700.0      7    1909.822     4900.0         2990.178          0.389760   \n",
      "8     1024.0      2     941.808     2048.0         1106.192          0.459867   \n",
      "9     2048.0      1    1697.448     2048.0          350.552          0.828832   \n",
      "\n",
      "   plan_cost  extra_cost  total_cost  \n",
      "0    60554.0           0     60554.0  \n",
      "1   177918.0           0    177918.0  \n",
      "2   170505.0           0    170505.0  \n",
      "3    45780.0           0     45780.0  \n",
      "4     1384.0           0      1384.0  \n",
      "5      720.0           0       720.0  \n",
      "6     2472.0           0      2472.0  \n",
      "7      224.0           0       224.0  \n",
      "8       80.0           0        80.0  \n",
      "9       60.0           0        60.0  \n",
      "Month 5:\n",
      "Total devices: 233203\n",
      "Total cost: 539172.17952\n",
      "Total usage:950692.2800000116\n",
      "   plan_st_1  count        used  pool_size  remaining_quota  pool_utilization  \\\n",
      "0        2.0  81790   47181.616   163580.0       116398.384          0.288431   \n",
      "1        5.0  41680  155520.286   208400.0        52879.714          0.746259   \n",
      "2       10.0  90311  615327.110   903110.0       287782.890          0.681342   \n",
      "3       30.0  19058   72870.510   571740.0       498869.490          0.127454   \n",
      "4      100.0    239   34462.688    23900.0       -10562.688          1.441953   \n",
      "5      300.0     38    6041.572    11400.0         5358.428          0.529962   \n",
      "6      500.0     79   15173.407    39500.0        24326.593          0.384137   \n",
      "7      700.0      5    2283.150     3500.0         1216.850          0.652329   \n",
      "8     1024.0      1       2.522     1024.0         1021.478          0.002463   \n",
      "9     2048.0      2    1829.419     4096.0         2266.581          0.446635   \n",
      "\n",
      "   plan_cost  extra_cost    total_cost  \n",
      "0    81790.0     0.00000   81790.00000  \n",
      "1    83360.0     0.00000   83360.00000  \n",
      "2   270933.0     0.00000  270933.00000  \n",
      "3    95290.0     0.00000   95290.00000  \n",
      "4     1912.0  3063.17952    4975.17952  \n",
      "5      608.0     0.00000     608.00000  \n",
      "6     1896.0     0.00000    1896.00000  \n",
      "7      160.0     0.00000     160.00000  \n",
      "8       40.0     0.00000      40.00000  \n",
      "9      120.0     0.00000     120.00000  \n",
      "{3: 395978.317631997, 4: 459697.0, 5: 539172.17952}\n"
     ]
    }
   ],
   "source": [
    "cost_strategy_1 = dict()\n",
    "for mth in [3, 4, 5]:\n",
    "    df_this_month = df_nozeroplan[df_nozeroplan['month']==mth]\n",
    "    df_this_month.set_index('iccid', inplace=True)\n",
    "    df_last_month = df_nozeroplan[df_nozeroplan['month']==mth-1][['iccid','best_plan']]\n",
    "    df_last_month.rename({'best_plan': 'plan_st_1'}, axis=1, inplace=True)\n",
    "    df_last_month.set_index('iccid', inplace=True)\n",
    "    # Get last month's best plan\n",
    "    df_this_month = df_this_month.join(df_last_month, how='left')\n",
    "    # Fill plan_s == 0 with 10.0\n",
    "    df_this_month['plan_s'].replace(0.0, 10.0, inplace=True)\n",
    "    # Fill in NaN best_plan_lastmonth\n",
    "    df_this_month['plan_st_1'].fillna(df_this_month['plan_s'], inplace=True)\n",
    "    # Calculate cost of this month, using strategy 1\n",
    "    print(\"Month {}:\".format(mth))\n",
    "    cost_strategy_1.update({mth: calculate_cost_with_data_pool(df_this_month, col_plan='plan_st_1', verbose=True)})\n",
    "print(cost_strategy_1)"
   ]
  },
  {
   "cell_type": "code",
   "execution_count": 229,
   "metadata": {
    "collapsed": false
   },
   "outputs": [],
   "source": [
    "# Compare difference\n",
    "lst_cost = [cost_nozeroplan, cost_strategy_1, cost_best_plan]\n",
    "df_compare = pd.DataFrame(lst_cost, index=['Paid cost', 'Cost with stg 1', 'Cost with best plan'])"
   ]
  },
  {
   "cell_type": "code",
   "execution_count": 230,
   "metadata": {
    "collapsed": false
   },
   "outputs": [
    {
     "data": {
      "text/html": [
       "<div>\n",
       "<style scoped>\n",
       "    .dataframe tbody tr th:only-of-type {\n",
       "        vertical-align: middle;\n",
       "    }\n",
       "\n",
       "    .dataframe tbody tr th {\n",
       "        vertical-align: top;\n",
       "    }\n",
       "\n",
       "    .dataframe thead th {\n",
       "        text-align: right;\n",
       "    }\n",
       "</style>\n",
       "<table border=\"1\" class=\"dataframe\">\n",
       "  <thead>\n",
       "    <tr style=\"text-align: right;\">\n",
       "      <th></th>\n",
       "      <th>2</th>\n",
       "      <th>3</th>\n",
       "      <th>4</th>\n",
       "      <th>5</th>\n",
       "    </tr>\n",
       "  </thead>\n",
       "  <tbody>\n",
       "    <tr>\n",
       "      <th>Paid cost</th>\n",
       "      <td>631332.0</td>\n",
       "      <td>645285.000000</td>\n",
       "      <td>674167.0</td>\n",
       "      <td>726531.00000</td>\n",
       "    </tr>\n",
       "    <tr>\n",
       "      <th>Cost with stg 1</th>\n",
       "      <td>NaN</td>\n",
       "      <td>395978.317632</td>\n",
       "      <td>459697.0</td>\n",
       "      <td>539172.17952</td>\n",
       "    </tr>\n",
       "    <tr>\n",
       "      <th>Cost with best plan</th>\n",
       "      <td>366133.0</td>\n",
       "      <td>418069.000000</td>\n",
       "      <td>447816.0</td>\n",
       "      <td>438988.00000</td>\n",
       "    </tr>\n",
       "  </tbody>\n",
       "</table>\n",
       "</div>"
      ],
      "text/plain": [
       "                            2              3         4             5\n",
       "Paid cost            631332.0  645285.000000  674167.0  726531.00000\n",
       "Cost with stg 1           NaN  395978.317632  459697.0  539172.17952\n",
       "Cost with best plan  366133.0  418069.000000  447816.0  438988.00000"
      ]
     },
     "execution_count": 230,
     "metadata": {},
     "output_type": "execute_result"
    }
   ],
   "source": [
    "df_compare.head()"
   ]
  },
  {
   "cell_type": "code",
   "execution_count": null,
   "metadata": {
    "collapsed": true
   },
   "outputs": [],
   "source": []
  }
 ],
 "metadata": {
  "anaconda-cloud": {},
  "kernelspec": {
   "display_name": "Python [default]",
   "language": "python",
   "name": "python3"
  },
  "language_info": {
   "codemirror_mode": {
    "name": "ipython",
    "version": 3
   },
   "file_extension": ".py",
   "mimetype": "text/x-python",
   "name": "python",
   "nbconvert_exporter": "python",
   "pygments_lexer": "ipython3",
   "version": "3.5.2"
  }
 },
 "nbformat": 4,
 "nbformat_minor": 1
}
