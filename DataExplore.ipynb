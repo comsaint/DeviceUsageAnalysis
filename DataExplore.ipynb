{
 "cells": [
  {
   "cell_type": "code",
   "execution_count": 1,
   "metadata": {
    "collapsed": true
   },
   "outputs": [],
   "source": [
    "import pandas as pd\n",
    "from schema import schema"
   ]
  },
  {
   "cell_type": "code",
   "execution_count": 2,
   "metadata": {
    "collapsed": true
   },
   "outputs": [],
   "source": [
    "# Read data\n",
    "df = pd.read_csv(r'data.csv', dtype=schema, encoding='utf-8')"
   ]
  },
  {
   "cell_type": "code",
   "execution_count": 3,
   "metadata": {
    "collapsed": true
   },
   "outputs": [],
   "source": [
    "# Pre-processing\n",
    "df.drop(['state'], axis=1, inplace=True)"
   ]
  },
  {
   "cell_type": "code",
   "execution_count": 4,
   "metadata": {
    "collapsed": false
   },
   "outputs": [
    {
     "data": {
      "text/html": [
       "<div>\n",
       "<style scoped>\n",
       "    .dataframe tbody tr th:only-of-type {\n",
       "        vertical-align: middle;\n",
       "    }\n",
       "\n",
       "    .dataframe tbody tr th {\n",
       "        vertical-align: top;\n",
       "    }\n",
       "\n",
       "    .dataframe thead th {\n",
       "        text-align: right;\n",
       "    }\n",
       "</style>\n",
       "<table border=\"1\" class=\"dataframe\">\n",
       "  <thead>\n",
       "    <tr style=\"text-align: right;\">\n",
       "      <th></th>\n",
       "      <th>iccid</th>\n",
       "      <th>used</th>\n",
       "      <th>plan_c</th>\n",
       "      <th>left</th>\n",
       "      <th>ac_time</th>\n",
       "      <th>product</th>\n",
       "      <th>company</th>\n",
       "      <th>carrier</th>\n",
       "      <th>plan_s</th>\n",
       "      <th>month</th>\n",
       "    </tr>\n",
       "  </thead>\n",
       "  <tbody>\n",
       "    <tr>\n",
       "      <th>0</th>\n",
       "      <td>898607B4071790000000</td>\n",
       "      <td>3.931</td>\n",
       "      <td>10.0</td>\n",
       "      <td>6.069</td>\n",
       "      <td>2018-01-16 15:21:11</td>\n",
       "      <td>SPB132</td>\n",
       "      <td>挚享科技（上海）有限公司</td>\n",
       "      <td>北京华虹</td>\n",
       "      <td>10.0</td>\n",
       "      <td>2</td>\n",
       "    </tr>\n",
       "    <tr>\n",
       "      <th>1</th>\n",
       "      <td>898607B4071790000001</td>\n",
       "      <td>0.000</td>\n",
       "      <td>10.0</td>\n",
       "      <td>10.000</td>\n",
       "      <td>2018-01-16 15:21:44</td>\n",
       "      <td>SPB132</td>\n",
       "      <td>挚享科技（上海）有限公司</td>\n",
       "      <td>北京华虹</td>\n",
       "      <td>10.0</td>\n",
       "      <td>2</td>\n",
       "    </tr>\n",
       "    <tr>\n",
       "      <th>2</th>\n",
       "      <td>898607B4071790000002</td>\n",
       "      <td>4.877</td>\n",
       "      <td>10.0</td>\n",
       "      <td>5.123</td>\n",
       "      <td>2018-01-16 15:19:09</td>\n",
       "      <td>SPB132</td>\n",
       "      <td>挚享科技（上海）有限公司</td>\n",
       "      <td>北京华虹</td>\n",
       "      <td>10.0</td>\n",
       "      <td>2</td>\n",
       "    </tr>\n",
       "    <tr>\n",
       "      <th>3</th>\n",
       "      <td>898607B4071790000003</td>\n",
       "      <td>4.259</td>\n",
       "      <td>10.0</td>\n",
       "      <td>5.741</td>\n",
       "      <td>2018-02-09 11:10:04</td>\n",
       "      <td>SPB132</td>\n",
       "      <td>挚享科技（上海）有限公司</td>\n",
       "      <td>北京华虹</td>\n",
       "      <td>10.0</td>\n",
       "      <td>2</td>\n",
       "    </tr>\n",
       "    <tr>\n",
       "      <th>4</th>\n",
       "      <td>898607B4071790000004</td>\n",
       "      <td>1.740</td>\n",
       "      <td>10.0</td>\n",
       "      <td>8.260</td>\n",
       "      <td>2018-01-16 15:21:28</td>\n",
       "      <td>SPB132</td>\n",
       "      <td>挚享科技（上海）有限公司</td>\n",
       "      <td>北京华虹</td>\n",
       "      <td>10.0</td>\n",
       "      <td>2</td>\n",
       "    </tr>\n",
       "  </tbody>\n",
       "</table>\n",
       "</div>"
      ],
      "text/plain": [
       "                  iccid   used  plan_c    left              ac_time product  \\\n",
       "0  898607B4071790000000  3.931    10.0   6.069  2018-01-16 15:21:11  SPB132   \n",
       "1  898607B4071790000001  0.000    10.0  10.000  2018-01-16 15:21:44  SPB132   \n",
       "2  898607B4071790000002  4.877    10.0   5.123  2018-01-16 15:19:09  SPB132   \n",
       "3  898607B4071790000003  4.259    10.0   5.741  2018-02-09 11:10:04  SPB132   \n",
       "4  898607B4071790000004  1.740    10.0   8.260  2018-01-16 15:21:28  SPB132   \n",
       "\n",
       "        company carrier  plan_s  month  \n",
       "0  挚享科技（上海）有限公司    北京华虹    10.0      2  \n",
       "1  挚享科技（上海）有限公司    北京华虹    10.0      2  \n",
       "2  挚享科技（上海）有限公司    北京华虹    10.0      2  \n",
       "3  挚享科技（上海）有限公司    北京华虹    10.0      2  \n",
       "4  挚享科技（上海）有限公司    北京华虹    10.0      2  "
      ]
     },
     "execution_count": 4,
     "metadata": {},
     "output_type": "execute_result"
    }
   ],
   "source": [
    "df.head()"
   ]
  },
  {
   "cell_type": "code",
   "execution_count": 5,
   "metadata": {
    "collapsed": true
   },
   "outputs": [],
   "source": [
    "counts = df['product'].value_counts()"
   ]
  },
  {
   "cell_type": "code",
   "execution_count": 6,
   "metadata": {
    "collapsed": true
   },
   "outputs": [],
   "source": [
    "# Filter out non-frequent items\n",
    "df_flt = df[df['product'].isin(counts[counts >= 100].index)]\n",
    "# Filter out plan_c == 0 (usage pool)\n",
    "#df_flt = df_flt[df_flt['plan_c']!=0]"
   ]
  },
  {
   "cell_type": "code",
   "execution_count": 7,
   "metadata": {
    "collapsed": false
   },
   "outputs": [
    {
     "data": {
      "text/plain": [
       "SPB132       992065\n",
       "智能车锁          39578\n",
       "智能柜           37640\n",
       "洗衣机           16145\n",
       "电动摩托车         10729\n",
       "充电宝            1684\n",
       "定位器             615\n",
       "2GWiFi传感器       412\n",
       "商米POS机          278\n",
       "Name: product, dtype: int64"
      ]
     },
     "execution_count": 7,
     "metadata": {},
     "output_type": "execute_result"
    }
   ],
   "source": [
    "df_flt['product'].value_counts()"
   ]
  },
  {
   "cell_type": "code",
   "execution_count": 8,
   "metadata": {
    "collapsed": false
   },
   "outputs": [
    {
     "data": {
      "text/plain": [
       "product    month\n",
       "2GWiFi传感器  4         60.042253\n",
       "           5        266.991063\n",
       "           6        139.981088\n",
       "SPB132     2          3.888193\n",
       "           3          4.418869\n",
       "           4          4.377335\n",
       "           5          3.696993\n",
       "           6          2.676808\n",
       "充电宝        4          2.956967\n",
       "           5          2.997328\n",
       "           6          2.344063\n",
       "商米POS机     4          0.170667\n",
       "           5          9.128721\n",
       "           6          4.017312\n",
       "定位器        2          2.062519\n",
       "           3          2.027930\n",
       "           4          0.912810\n",
       "           5          1.130042\n",
       "           6          0.970373\n",
       "智能柜        2          6.763185\n",
       "           3          8.455480\n",
       "           4          7.542408\n",
       "           5          7.570744\n",
       "           6          5.472348\n",
       "智能车锁       2          3.696198\n",
       "           3          4.710720\n",
       "           4          4.991057\n",
       "           5          5.263135\n",
       "           6          2.820215\n",
       "洗衣机        2          2.411543\n",
       "           3          2.983239\n",
       "           4          4.355605\n",
       "           5          3.168163\n",
       "           6          2.380064\n",
       "电动摩托车      4          0.303429\n",
       "           5          4.308583\n",
       "           6         15.600936\n",
       "Name: used, dtype: float64"
      ]
     },
     "execution_count": 8,
     "metadata": {},
     "output_type": "execute_result"
    }
   ],
   "source": [
    "# Average usage by device\n",
    "df_flt.groupby(['product', 'month'])['used'].mean()"
   ]
  },
  {
   "cell_type": "code",
   "execution_count": 9,
   "metadata": {
    "collapsed": true
   },
   "outputs": [],
   "source": [
    "# Split product SPB132\n",
    "df_noplan = df_flt[df_flt['plan_c']==0]\n",
    "df_hasplan = df_flt[df_flt['plan_c']!=0]"
   ]
  },
  {
   "cell_type": "code",
   "execution_count": 10,
   "metadata": {
    "collapsed": false
   },
   "outputs": [
    {
     "data": {
      "text/html": [
       "<div>\n",
       "<style scoped>\n",
       "    .dataframe tbody tr th:only-of-type {\n",
       "        vertical-align: middle;\n",
       "    }\n",
       "\n",
       "    .dataframe tbody tr th {\n",
       "        vertical-align: top;\n",
       "    }\n",
       "\n",
       "    .dataframe thead th {\n",
       "        text-align: right;\n",
       "    }\n",
       "</style>\n",
       "<table border=\"1\" class=\"dataframe\">\n",
       "  <thead>\n",
       "    <tr style=\"text-align: right;\">\n",
       "      <th></th>\n",
       "      <th>iccid</th>\n",
       "      <th>used</th>\n",
       "      <th>plan_c</th>\n",
       "      <th>left</th>\n",
       "      <th>ac_time</th>\n",
       "      <th>product</th>\n",
       "      <th>company</th>\n",
       "      <th>carrier</th>\n",
       "      <th>plan_s</th>\n",
       "      <th>month</th>\n",
       "    </tr>\n",
       "  </thead>\n",
       "  <tbody>\n",
       "    <tr>\n",
       "      <th>0</th>\n",
       "      <td>898607B4071790000000</td>\n",
       "      <td>3.931</td>\n",
       "      <td>10.0</td>\n",
       "      <td>6.069</td>\n",
       "      <td>2018-01-16 15:21:11</td>\n",
       "      <td>SPB132</td>\n",
       "      <td>挚享科技（上海）有限公司</td>\n",
       "      <td>北京华虹</td>\n",
       "      <td>10.0</td>\n",
       "      <td>2</td>\n",
       "    </tr>\n",
       "    <tr>\n",
       "      <th>1</th>\n",
       "      <td>898607B4071790000001</td>\n",
       "      <td>0.000</td>\n",
       "      <td>10.0</td>\n",
       "      <td>10.000</td>\n",
       "      <td>2018-01-16 15:21:44</td>\n",
       "      <td>SPB132</td>\n",
       "      <td>挚享科技（上海）有限公司</td>\n",
       "      <td>北京华虹</td>\n",
       "      <td>10.0</td>\n",
       "      <td>2</td>\n",
       "    </tr>\n",
       "    <tr>\n",
       "      <th>2</th>\n",
       "      <td>898607B4071790000002</td>\n",
       "      <td>4.877</td>\n",
       "      <td>10.0</td>\n",
       "      <td>5.123</td>\n",
       "      <td>2018-01-16 15:19:09</td>\n",
       "      <td>SPB132</td>\n",
       "      <td>挚享科技（上海）有限公司</td>\n",
       "      <td>北京华虹</td>\n",
       "      <td>10.0</td>\n",
       "      <td>2</td>\n",
       "    </tr>\n",
       "    <tr>\n",
       "      <th>3</th>\n",
       "      <td>898607B4071790000003</td>\n",
       "      <td>4.259</td>\n",
       "      <td>10.0</td>\n",
       "      <td>5.741</td>\n",
       "      <td>2018-02-09 11:10:04</td>\n",
       "      <td>SPB132</td>\n",
       "      <td>挚享科技（上海）有限公司</td>\n",
       "      <td>北京华虹</td>\n",
       "      <td>10.0</td>\n",
       "      <td>2</td>\n",
       "    </tr>\n",
       "    <tr>\n",
       "      <th>4</th>\n",
       "      <td>898607B4071790000004</td>\n",
       "      <td>1.740</td>\n",
       "      <td>10.0</td>\n",
       "      <td>8.260</td>\n",
       "      <td>2018-01-16 15:21:28</td>\n",
       "      <td>SPB132</td>\n",
       "      <td>挚享科技（上海）有限公司</td>\n",
       "      <td>北京华虹</td>\n",
       "      <td>10.0</td>\n",
       "      <td>2</td>\n",
       "    </tr>\n",
       "  </tbody>\n",
       "</table>\n",
       "</div>"
      ],
      "text/plain": [
       "                  iccid   used  plan_c    left              ac_time product  \\\n",
       "0  898607B4071790000000  3.931    10.0   6.069  2018-01-16 15:21:11  SPB132   \n",
       "1  898607B4071790000001  0.000    10.0  10.000  2018-01-16 15:21:44  SPB132   \n",
       "2  898607B4071790000002  4.877    10.0   5.123  2018-01-16 15:19:09  SPB132   \n",
       "3  898607B4071790000003  4.259    10.0   5.741  2018-02-09 11:10:04  SPB132   \n",
       "4  898607B4071790000004  1.740    10.0   8.260  2018-01-16 15:21:28  SPB132   \n",
       "\n",
       "        company carrier  plan_s  month  \n",
       "0  挚享科技（上海）有限公司    北京华虹    10.0      2  \n",
       "1  挚享科技（上海）有限公司    北京华虹    10.0      2  \n",
       "2  挚享科技（上海）有限公司    北京华虹    10.0      2  \n",
       "3  挚享科技（上海）有限公司    北京华虹    10.0      2  \n",
       "4  挚享科技（上海）有限公司    北京华虹    10.0      2  "
      ]
     },
     "execution_count": 10,
     "metadata": {},
     "output_type": "execute_result"
    }
   ],
   "source": [
    "df_hasplan.head()"
   ]
  },
  {
   "cell_type": "code",
   "execution_count": 11,
   "metadata": {
    "collapsed": false
   },
   "outputs": [
    {
     "data": {
      "text/html": [
       "<div>\n",
       "<style scoped>\n",
       "    .dataframe tbody tr th:only-of-type {\n",
       "        vertical-align: middle;\n",
       "    }\n",
       "\n",
       "    .dataframe tbody tr th {\n",
       "        vertical-align: top;\n",
       "    }\n",
       "\n",
       "    .dataframe thead th {\n",
       "        text-align: right;\n",
       "    }\n",
       "</style>\n",
       "<table border=\"1\" class=\"dataframe\">\n",
       "  <thead>\n",
       "    <tr style=\"text-align: right;\">\n",
       "      <th></th>\n",
       "      <th>used</th>\n",
       "      <th>plan_c</th>\n",
       "      <th>left</th>\n",
       "      <th>plan_s</th>\n",
       "      <th>month</th>\n",
       "    </tr>\n",
       "  </thead>\n",
       "  <tbody>\n",
       "    <tr>\n",
       "      <th>count</th>\n",
       "      <td>910452.000000</td>\n",
       "      <td>910452.000000</td>\n",
       "      <td>910452.000000</td>\n",
       "      <td>910452.000000</td>\n",
       "      <td>910452.000000</td>\n",
       "    </tr>\n",
       "    <tr>\n",
       "      <th>mean</th>\n",
       "      <td>3.999888</td>\n",
       "      <td>11.383774</td>\n",
       "      <td>7.523382</td>\n",
       "      <td>11.178294</td>\n",
       "      <td>4.015080</td>\n",
       "    </tr>\n",
       "    <tr>\n",
       "      <th>std</th>\n",
       "      <td>6.693716</td>\n",
       "      <td>5.075498</td>\n",
       "      <td>5.405439</td>\n",
       "      <td>4.709302</td>\n",
       "      <td>1.412036</td>\n",
       "    </tr>\n",
       "    <tr>\n",
       "      <th>min</th>\n",
       "      <td>0.000000</td>\n",
       "      <td>10.000000</td>\n",
       "      <td>0.000000</td>\n",
       "      <td>10.000000</td>\n",
       "      <td>2.000000</td>\n",
       "    </tr>\n",
       "    <tr>\n",
       "      <th>25%</th>\n",
       "      <td>0.000000</td>\n",
       "      <td>10.000000</td>\n",
       "      <td>4.105000</td>\n",
       "      <td>10.000000</td>\n",
       "      <td>3.000000</td>\n",
       "    </tr>\n",
       "    <tr>\n",
       "      <th>50%</th>\n",
       "      <td>4.313000</td>\n",
       "      <td>10.000000</td>\n",
       "      <td>6.114000</td>\n",
       "      <td>10.000000</td>\n",
       "      <td>4.000000</td>\n",
       "    </tr>\n",
       "    <tr>\n",
       "      <th>75%</th>\n",
       "      <td>6.131000</td>\n",
       "      <td>10.000000</td>\n",
       "      <td>10.000000</td>\n",
       "      <td>10.000000</td>\n",
       "      <td>5.000000</td>\n",
       "    </tr>\n",
       "    <tr>\n",
       "      <th>max</th>\n",
       "      <td>789.941000</td>\n",
       "      <td>30.000000</td>\n",
       "      <td>30.000000</td>\n",
       "      <td>30.000000</td>\n",
       "      <td>6.000000</td>\n",
       "    </tr>\n",
       "  </tbody>\n",
       "</table>\n",
       "</div>"
      ],
      "text/plain": [
       "                used         plan_c           left         plan_s  \\\n",
       "count  910452.000000  910452.000000  910452.000000  910452.000000   \n",
       "mean        3.999888      11.383774       7.523382      11.178294   \n",
       "std         6.693716       5.075498       5.405439       4.709302   \n",
       "min         0.000000      10.000000       0.000000      10.000000   \n",
       "25%         0.000000      10.000000       4.105000      10.000000   \n",
       "50%         4.313000      10.000000       6.114000      10.000000   \n",
       "75%         6.131000      10.000000      10.000000      10.000000   \n",
       "max       789.941000      30.000000      30.000000      30.000000   \n",
       "\n",
       "               month  \n",
       "count  910452.000000  \n",
       "mean        4.015080  \n",
       "std         1.412036  \n",
       "min         2.000000  \n",
       "25%         3.000000  \n",
       "50%         4.000000  \n",
       "75%         5.000000  \n",
       "max         6.000000  "
      ]
     },
     "execution_count": 11,
     "metadata": {},
     "output_type": "execute_result"
    }
   ],
   "source": [
    "df_hasplan.describe()"
   ]
  },
  {
   "cell_type": "code",
   "execution_count": 12,
   "metadata": {
    "collapsed": false
   },
   "outputs": [
    {
     "name": "stderr",
     "output_type": "stream",
     "text": [
      "C:\\Anaconda3\\lib\\site-packages\\ipykernel\\__main__.py:3: SettingWithCopyWarning: \n",
      "A value is trying to be set on a copy of a slice from a DataFrame.\n",
      "Try using .loc[row_indexer,col_indexer] = value instead\n",
      "\n",
      "See the caveats in the documentation: http://pandas.pydata.org/pandas-docs/stable/indexing.html#indexing-view-versus-copy\n",
      "  app.launch_new_instance()\n"
     ]
    }
   ],
   "source": [
    "# Compute paid cost\n",
    "from metric import get_best_plan_and_cost, compute_cost_with_plan_and_usage\n",
    "df_hasplan['best_plan'], df_hasplan['best_cost'], df_hasplan['cost_with_plan_c'] = \\\n",
    "    zip(*df_hasplan.apply(lambda row: get_best_plan_and_cost(row['used'], row['plan_c']), axis=1))"
   ]
  },
  {
   "cell_type": "code",
   "execution_count": 13,
   "metadata": {
    "collapsed": false
   },
   "outputs": [
    {
     "name": "stderr",
     "output_type": "stream",
     "text": [
      "C:\\Anaconda3\\lib\\site-packages\\ipykernel\\__main__.py:2: SettingWithCopyWarning: \n",
      "A value is trying to be set on a copy of a slice from a DataFrame.\n",
      "Try using .loc[row_indexer,col_indexer] = value instead\n",
      "\n",
      "See the caveats in the documentation: http://pandas.pydata.org/pandas-docs/stable/indexing.html#indexing-view-versus-copy\n",
      "  from ipykernel import kernelapp as app\n"
     ]
    }
   ],
   "source": [
    "# User perceived cost\n",
    "_, _, df_hasplan['cost_with_plan_s'] = \\\n",
    "    zip(*df_hasplan.apply(lambda row: get_best_plan_and_cost(row['used'], row['plan_s']), axis=1))"
   ]
  },
  {
   "cell_type": "code",
   "execution_count": 14,
   "metadata": {
    "collapsed": false
   },
   "outputs": [
    {
     "data": {
      "text/html": [
       "<div>\n",
       "<style scoped>\n",
       "    .dataframe tbody tr th:only-of-type {\n",
       "        vertical-align: middle;\n",
       "    }\n",
       "\n",
       "    .dataframe tbody tr th {\n",
       "        vertical-align: top;\n",
       "    }\n",
       "\n",
       "    .dataframe thead th {\n",
       "        text-align: right;\n",
       "    }\n",
       "</style>\n",
       "<table border=\"1\" class=\"dataframe\">\n",
       "  <thead>\n",
       "    <tr style=\"text-align: right;\">\n",
       "      <th></th>\n",
       "      <th>iccid</th>\n",
       "      <th>used</th>\n",
       "      <th>plan_c</th>\n",
       "      <th>left</th>\n",
       "      <th>ac_time</th>\n",
       "      <th>product</th>\n",
       "      <th>company</th>\n",
       "      <th>carrier</th>\n",
       "      <th>plan_s</th>\n",
       "      <th>month</th>\n",
       "      <th>best_plan</th>\n",
       "      <th>best_cost</th>\n",
       "      <th>cost_with_plan_c</th>\n",
       "      <th>cost_with_plan_s</th>\n",
       "    </tr>\n",
       "  </thead>\n",
       "  <tbody>\n",
       "    <tr>\n",
       "      <th>1043414</th>\n",
       "      <td>898602B9211770016451</td>\n",
       "      <td>3.304</td>\n",
       "      <td>30.0</td>\n",
       "      <td>26.696</td>\n",
       "      <td>2018-03-08 00:31:57</td>\n",
       "      <td>智能柜</td>\n",
       "      <td>杭州云造科技有限公司</td>\n",
       "      <td>中国移动物联网平台广西分公司</td>\n",
       "      <td>30.0</td>\n",
       "      <td>6</td>\n",
       "      <td>0</td>\n",
       "      <td>0.95816</td>\n",
       "      <td>5.0</td>\n",
       "      <td>5.0</td>\n",
       "    </tr>\n",
       "    <tr>\n",
       "      <th>1043415</th>\n",
       "      <td>898602B9211770016452</td>\n",
       "      <td>0.000</td>\n",
       "      <td>30.0</td>\n",
       "      <td>30.000</td>\n",
       "      <td>2018-03-08 00:22:20</td>\n",
       "      <td>智能柜</td>\n",
       "      <td>杭州云造科技有限公司</td>\n",
       "      <td>中国移动物联网平台广西分公司</td>\n",
       "      <td>30.0</td>\n",
       "      <td>6</td>\n",
       "      <td>0</td>\n",
       "      <td>0.00000</td>\n",
       "      <td>5.0</td>\n",
       "      <td>5.0</td>\n",
       "    </tr>\n",
       "    <tr>\n",
       "      <th>1043416</th>\n",
       "      <td>898602B9211770016453</td>\n",
       "      <td>0.000</td>\n",
       "      <td>30.0</td>\n",
       "      <td>30.000</td>\n",
       "      <td>2018-03-08 00:20:46</td>\n",
       "      <td>智能柜</td>\n",
       "      <td>杭州云造科技有限公司</td>\n",
       "      <td>中国移动物联网平台广西分公司</td>\n",
       "      <td>30.0</td>\n",
       "      <td>6</td>\n",
       "      <td>0</td>\n",
       "      <td>0.00000</td>\n",
       "      <td>5.0</td>\n",
       "      <td>5.0</td>\n",
       "    </tr>\n",
       "    <tr>\n",
       "      <th>1043417</th>\n",
       "      <td>898602B9211770016454</td>\n",
       "      <td>8.103</td>\n",
       "      <td>30.0</td>\n",
       "      <td>21.897</td>\n",
       "      <td>2018-03-01 08:57:26</td>\n",
       "      <td>智能车锁</td>\n",
       "      <td>杭州云造科技有限公司</td>\n",
       "      <td>中国移动物联网平台广西分公司</td>\n",
       "      <td>30.0</td>\n",
       "      <td>6</td>\n",
       "      <td>0</td>\n",
       "      <td>2.34987</td>\n",
       "      <td>5.0</td>\n",
       "      <td>5.0</td>\n",
       "    </tr>\n",
       "    <tr>\n",
       "      <th>1043418</th>\n",
       "      <td>898602B9211770016459</td>\n",
       "      <td>0.122</td>\n",
       "      <td>30.0</td>\n",
       "      <td>29.878</td>\n",
       "      <td>2018-03-08 00:20:39</td>\n",
       "      <td>智能柜</td>\n",
       "      <td>杭州云造科技有限公司</td>\n",
       "      <td>中国移动物联网平台广西分公司</td>\n",
       "      <td>30.0</td>\n",
       "      <td>6</td>\n",
       "      <td>0</td>\n",
       "      <td>0.03538</td>\n",
       "      <td>5.0</td>\n",
       "      <td>5.0</td>\n",
       "    </tr>\n",
       "  </tbody>\n",
       "</table>\n",
       "</div>"
      ],
      "text/plain": [
       "                        iccid   used  plan_c    left              ac_time  \\\n",
       "1043414  898602B9211770016451  3.304    30.0  26.696  2018-03-08 00:31:57   \n",
       "1043415  898602B9211770016452  0.000    30.0  30.000  2018-03-08 00:22:20   \n",
       "1043416  898602B9211770016453  0.000    30.0  30.000  2018-03-08 00:20:46   \n",
       "1043417  898602B9211770016454  8.103    30.0  21.897  2018-03-01 08:57:26   \n",
       "1043418  898602B9211770016459  0.122    30.0  29.878  2018-03-08 00:20:39   \n",
       "\n",
       "        product     company         carrier  plan_s  month  best_plan  \\\n",
       "1043414     智能柜  杭州云造科技有限公司  中国移动物联网平台广西分公司    30.0      6          0   \n",
       "1043415     智能柜  杭州云造科技有限公司  中国移动物联网平台广西分公司    30.0      6          0   \n",
       "1043416     智能柜  杭州云造科技有限公司  中国移动物联网平台广西分公司    30.0      6          0   \n",
       "1043417    智能车锁  杭州云造科技有限公司  中国移动物联网平台广西分公司    30.0      6          0   \n",
       "1043418     智能柜  杭州云造科技有限公司  中国移动物联网平台广西分公司    30.0      6          0   \n",
       "\n",
       "         best_cost  cost_with_plan_c  cost_with_plan_s  \n",
       "1043414    0.95816               5.0               5.0  \n",
       "1043415    0.00000               5.0               5.0  \n",
       "1043416    0.00000               5.0               5.0  \n",
       "1043417    2.34987               5.0               5.0  \n",
       "1043418    0.03538               5.0               5.0  "
      ]
     },
     "execution_count": 14,
     "metadata": {},
     "output_type": "execute_result"
    }
   ],
   "source": [
    "df_hasplan.tail()"
   ]
  },
  {
   "cell_type": "code",
   "execution_count": 15,
   "metadata": {
    "collapsed": false
   },
   "outputs": [
    {
     "data": {
      "text/html": [
       "<div>\n",
       "<style scoped>\n",
       "    .dataframe tbody tr th:only-of-type {\n",
       "        vertical-align: middle;\n",
       "    }\n",
       "\n",
       "    .dataframe tbody tr th {\n",
       "        vertical-align: top;\n",
       "    }\n",
       "\n",
       "    .dataframe thead th {\n",
       "        text-align: right;\n",
       "    }\n",
       "</style>\n",
       "<table border=\"1\" class=\"dataframe\">\n",
       "  <thead>\n",
       "    <tr style=\"text-align: right;\">\n",
       "      <th></th>\n",
       "      <th>used</th>\n",
       "      <th>plan_c</th>\n",
       "      <th>left</th>\n",
       "      <th>plan_s</th>\n",
       "      <th>month</th>\n",
       "      <th>best_plan</th>\n",
       "      <th>best_cost</th>\n",
       "      <th>cost_with_plan_c</th>\n",
       "      <th>cost_with_plan_s</th>\n",
       "    </tr>\n",
       "  </thead>\n",
       "  <tbody>\n",
       "    <tr>\n",
       "      <th>count</th>\n",
       "      <td>910452.000000</td>\n",
       "      <td>910452.000000</td>\n",
       "      <td>910452.000000</td>\n",
       "      <td>910452.000000</td>\n",
       "      <td>910452.000000</td>\n",
       "      <td>910452.000000</td>\n",
       "      <td>910452.000000</td>\n",
       "      <td>910452.000000</td>\n",
       "      <td>910452.000000</td>\n",
       "    </tr>\n",
       "    <tr>\n",
       "      <th>mean</th>\n",
       "      <td>3.999888</td>\n",
       "      <td>11.383774</td>\n",
       "      <td>7.523382</td>\n",
       "      <td>11.178294</td>\n",
       "      <td>4.015080</td>\n",
       "      <td>0.398593</td>\n",
       "      <td>1.121513</td>\n",
       "      <td>3.178831</td>\n",
       "      <td>3.178591</td>\n",
       "    </tr>\n",
       "    <tr>\n",
       "      <th>std</th>\n",
       "      <td>6.693716</td>\n",
       "      <td>5.075498</td>\n",
       "      <td>5.405439</td>\n",
       "      <td>4.709302</td>\n",
       "      <td>1.412036</td>\n",
       "      <td>8.061034</td>\n",
       "      <td>1.026953</td>\n",
       "      <td>1.626659</td>\n",
       "      <td>1.702394</td>\n",
       "    </tr>\n",
       "    <tr>\n",
       "      <th>min</th>\n",
       "      <td>0.000000</td>\n",
       "      <td>10.000000</td>\n",
       "      <td>0.000000</td>\n",
       "      <td>10.000000</td>\n",
       "      <td>2.000000</td>\n",
       "      <td>0.000000</td>\n",
       "      <td>0.000000</td>\n",
       "      <td>3.000000</td>\n",
       "      <td>3.000000</td>\n",
       "    </tr>\n",
       "    <tr>\n",
       "      <th>25%</th>\n",
       "      <td>0.000000</td>\n",
       "      <td>10.000000</td>\n",
       "      <td>4.105000</td>\n",
       "      <td>10.000000</td>\n",
       "      <td>3.000000</td>\n",
       "      <td>0.000000</td>\n",
       "      <td>0.000000</td>\n",
       "      <td>3.000000</td>\n",
       "      <td>3.000000</td>\n",
       "    </tr>\n",
       "    <tr>\n",
       "      <th>50%</th>\n",
       "      <td>4.313000</td>\n",
       "      <td>10.000000</td>\n",
       "      <td>6.114000</td>\n",
       "      <td>10.000000</td>\n",
       "      <td>4.000000</td>\n",
       "      <td>0.000000</td>\n",
       "      <td>1.250770</td>\n",
       "      <td>3.000000</td>\n",
       "      <td>3.000000</td>\n",
       "    </tr>\n",
       "    <tr>\n",
       "      <th>75%</th>\n",
       "      <td>6.131000</td>\n",
       "      <td>10.000000</td>\n",
       "      <td>10.000000</td>\n",
       "      <td>10.000000</td>\n",
       "      <td>5.000000</td>\n",
       "      <td>0.000000</td>\n",
       "      <td>1.777990</td>\n",
       "      <td>3.000000</td>\n",
       "      <td>3.000000</td>\n",
       "    </tr>\n",
       "    <tr>\n",
       "      <th>max</th>\n",
       "      <td>789.941000</td>\n",
       "      <td>30.000000</td>\n",
       "      <td>30.000000</td>\n",
       "      <td>30.000000</td>\n",
       "      <td>6.000000</td>\n",
       "      <td>1000.000000</td>\n",
       "      <td>40.000000</td>\n",
       "      <td>225.382890</td>\n",
       "      <td>229.182890</td>\n",
       "    </tr>\n",
       "  </tbody>\n",
       "</table>\n",
       "</div>"
      ],
      "text/plain": [
       "                used         plan_c           left         plan_s  \\\n",
       "count  910452.000000  910452.000000  910452.000000  910452.000000   \n",
       "mean        3.999888      11.383774       7.523382      11.178294   \n",
       "std         6.693716       5.075498       5.405439       4.709302   \n",
       "min         0.000000      10.000000       0.000000      10.000000   \n",
       "25%         0.000000      10.000000       4.105000      10.000000   \n",
       "50%         4.313000      10.000000       6.114000      10.000000   \n",
       "75%         6.131000      10.000000      10.000000      10.000000   \n",
       "max       789.941000      30.000000      30.000000      30.000000   \n",
       "\n",
       "               month      best_plan      best_cost  cost_with_plan_c  \\\n",
       "count  910452.000000  910452.000000  910452.000000     910452.000000   \n",
       "mean        4.015080       0.398593       1.121513          3.178831   \n",
       "std         1.412036       8.061034       1.026953          1.626659   \n",
       "min         2.000000       0.000000       0.000000          3.000000   \n",
       "25%         3.000000       0.000000       0.000000          3.000000   \n",
       "50%         4.000000       0.000000       1.250770          3.000000   \n",
       "75%         5.000000       0.000000       1.777990          3.000000   \n",
       "max         6.000000    1000.000000      40.000000        225.382890   \n",
       "\n",
       "       cost_with_plan_s  \n",
       "count     910452.000000  \n",
       "mean           3.178591  \n",
       "std            1.702394  \n",
       "min            3.000000  \n",
       "25%            3.000000  \n",
       "50%            3.000000  \n",
       "75%            3.000000  \n",
       "max          229.182890  "
      ]
     },
     "execution_count": 15,
     "metadata": {},
     "output_type": "execute_result"
    }
   ],
   "source": [
    "df_hasplan.describe()"
   ]
  },
  {
   "cell_type": "code",
   "execution_count": 16,
   "metadata": {
    "collapsed": true
   },
   "outputs": [],
   "source": [
    "df_diff_plan = df_hasplan[df_hasplan['plan_c']!=df_hasplan['plan_s']]"
   ]
  },
  {
   "cell_type": "code",
   "execution_count": 17,
   "metadata": {
    "collapsed": false
   },
   "outputs": [
    {
     "data": {
      "text/plain": [
       "9354"
      ]
     },
     "execution_count": 17,
     "metadata": {},
     "output_type": "execute_result"
    }
   ],
   "source": [
    "len(df_diff_plan)"
   ]
  },
  {
   "cell_type": "code",
   "execution_count": 18,
   "metadata": {
    "collapsed": true
   },
   "outputs": [],
   "source": [
    "# Strategy 1: use last month's best plan as next month's plan_c\n",
    "df_apr = df_hasplan[df_hasplan['month']==4]\n",
    "df_may = df_hasplan[df_hasplan['month']==5]\n",
    "# for simplicity, select only devices which exists in both months\n",
    "iccid_apr = df_apr.iccid.tolist()\n",
    "df_may = df_may[df_may['iccid'].isin(iccid_apr)]"
   ]
  },
  {
   "cell_type": "code",
   "execution_count": 19,
   "metadata": {
    "collapsed": false
   },
   "outputs": [
    {
     "data": {
      "text/plain": [
       "183247"
      ]
     },
     "execution_count": 19,
     "metadata": {},
     "output_type": "execute_result"
    }
   ],
   "source": [
    "len(df_may)"
   ]
  },
  {
   "cell_type": "code",
   "execution_count": 20,
   "metadata": {
    "collapsed": false
   },
   "outputs": [
    {
     "data": {
      "text/html": [
       "<div>\n",
       "<style scoped>\n",
       "    .dataframe tbody tr th:only-of-type {\n",
       "        vertical-align: middle;\n",
       "    }\n",
       "\n",
       "    .dataframe tbody tr th {\n",
       "        vertical-align: top;\n",
       "    }\n",
       "\n",
       "    .dataframe thead th {\n",
       "        text-align: right;\n",
       "    }\n",
       "</style>\n",
       "<table border=\"1\" class=\"dataframe\">\n",
       "  <thead>\n",
       "    <tr style=\"text-align: right;\">\n",
       "      <th></th>\n",
       "      <th>used</th>\n",
       "      <th>plan_c</th>\n",
       "      <th>left</th>\n",
       "      <th>plan_s</th>\n",
       "      <th>month</th>\n",
       "      <th>best_plan</th>\n",
       "      <th>best_cost</th>\n",
       "      <th>cost_with_plan_c</th>\n",
       "      <th>cost_with_plan_s</th>\n",
       "    </tr>\n",
       "  </thead>\n",
       "  <tbody>\n",
       "    <tr>\n",
       "      <th>count</th>\n",
       "      <td>183247.000000</td>\n",
       "      <td>183247.000000</td>\n",
       "      <td>183247.000000</td>\n",
       "      <td>183247.000000</td>\n",
       "      <td>183247.0</td>\n",
       "      <td>183247.000000</td>\n",
       "      <td>183247.000000</td>\n",
       "      <td>183247.000000</td>\n",
       "      <td>183247.000000</td>\n",
       "    </tr>\n",
       "    <tr>\n",
       "      <th>mean</th>\n",
       "      <td>4.101045</td>\n",
       "      <td>11.454540</td>\n",
       "      <td>7.534969</td>\n",
       "      <td>11.249679</td>\n",
       "      <td>5.0</td>\n",
       "      <td>0.424836</td>\n",
       "      <td>1.143621</td>\n",
       "      <td>3.198081</td>\n",
       "      <td>3.193722</td>\n",
       "    </tr>\n",
       "    <tr>\n",
       "      <th>std</th>\n",
       "      <td>7.696244</td>\n",
       "      <td>5.193771</td>\n",
       "      <td>5.691589</td>\n",
       "      <td>4.840663</td>\n",
       "      <td>0.0</td>\n",
       "      <td>9.046418</td>\n",
       "      <td>1.200516</td>\n",
       "      <td>1.852226</td>\n",
       "      <td>1.932930</td>\n",
       "    </tr>\n",
       "    <tr>\n",
       "      <th>min</th>\n",
       "      <td>0.000000</td>\n",
       "      <td>10.000000</td>\n",
       "      <td>0.000000</td>\n",
       "      <td>10.000000</td>\n",
       "      <td>5.0</td>\n",
       "      <td>0.000000</td>\n",
       "      <td>0.000000</td>\n",
       "      <td>3.000000</td>\n",
       "      <td>3.000000</td>\n",
       "    </tr>\n",
       "    <tr>\n",
       "      <th>25%</th>\n",
       "      <td>0.000000</td>\n",
       "      <td>10.000000</td>\n",
       "      <td>2.521000</td>\n",
       "      <td>10.000000</td>\n",
       "      <td>5.0</td>\n",
       "      <td>0.000000</td>\n",
       "      <td>0.000000</td>\n",
       "      <td>3.000000</td>\n",
       "      <td>3.000000</td>\n",
       "    </tr>\n",
       "    <tr>\n",
       "      <th>50%</th>\n",
       "      <td>3.846000</td>\n",
       "      <td>10.000000</td>\n",
       "      <td>8.096000</td>\n",
       "      <td>10.000000</td>\n",
       "      <td>5.0</td>\n",
       "      <td>0.000000</td>\n",
       "      <td>1.115340</td>\n",
       "      <td>3.000000</td>\n",
       "      <td>3.000000</td>\n",
       "    </tr>\n",
       "    <tr>\n",
       "      <th>75%</th>\n",
       "      <td>7.691000</td>\n",
       "      <td>10.000000</td>\n",
       "      <td>10.000000</td>\n",
       "      <td>10.000000</td>\n",
       "      <td>5.0</td>\n",
       "      <td>0.000000</td>\n",
       "      <td>2.230390</td>\n",
       "      <td>3.000000</td>\n",
       "      <td>3.000000</td>\n",
       "    </tr>\n",
       "    <tr>\n",
       "      <th>max</th>\n",
       "      <td>675.345000</td>\n",
       "      <td>30.000000</td>\n",
       "      <td>30.000000</td>\n",
       "      <td>30.000000</td>\n",
       "      <td>5.0</td>\n",
       "      <td>700.000000</td>\n",
       "      <td>32.000000</td>\n",
       "      <td>192.150050</td>\n",
       "      <td>195.950050</td>\n",
       "    </tr>\n",
       "  </tbody>\n",
       "</table>\n",
       "</div>"
      ],
      "text/plain": [
       "                used         plan_c           left         plan_s     month  \\\n",
       "count  183247.000000  183247.000000  183247.000000  183247.000000  183247.0   \n",
       "mean        4.101045      11.454540       7.534969      11.249679       5.0   \n",
       "std         7.696244       5.193771       5.691589       4.840663       0.0   \n",
       "min         0.000000      10.000000       0.000000      10.000000       5.0   \n",
       "25%         0.000000      10.000000       2.521000      10.000000       5.0   \n",
       "50%         3.846000      10.000000       8.096000      10.000000       5.0   \n",
       "75%         7.691000      10.000000      10.000000      10.000000       5.0   \n",
       "max       675.345000      30.000000      30.000000      30.000000       5.0   \n",
       "\n",
       "           best_plan      best_cost  cost_with_plan_c  cost_with_plan_s  \n",
       "count  183247.000000  183247.000000     183247.000000     183247.000000  \n",
       "mean        0.424836       1.143621          3.198081          3.193722  \n",
       "std         9.046418       1.200516          1.852226          1.932930  \n",
       "min         0.000000       0.000000          3.000000          3.000000  \n",
       "25%         0.000000       0.000000          3.000000          3.000000  \n",
       "50%         0.000000       1.115340          3.000000          3.000000  \n",
       "75%         0.000000       2.230390          3.000000          3.000000  \n",
       "max       700.000000      32.000000        192.150050        195.950050  "
      ]
     },
     "execution_count": 20,
     "metadata": {},
     "output_type": "execute_result"
    }
   ],
   "source": [
    "df_may.describe()"
   ]
  },
  {
   "cell_type": "code",
   "execution_count": 21,
   "metadata": {
    "collapsed": true
   },
   "outputs": [],
   "source": [
    "# Apr's best strategy\n",
    "d = df_apr.set_index('iccid')['best_plan'].to_dict()"
   ]
  },
  {
   "cell_type": "code",
   "execution_count": 22,
   "metadata": {
    "collapsed": true
   },
   "outputs": [],
   "source": [
    "df_may['strategy_1'] = df_may['iccid'].map(d)\n",
    "df_may['cost_with_strategy_1'] = df_may.apply(lambda row: compute_cost_with_plan_and_usage(row['strategy_1'], row['used']), axis=1)"
   ]
  },
  {
   "cell_type": "code",
   "execution_count": 23,
   "metadata": {
    "collapsed": false
   },
   "outputs": [
    {
     "data": {
      "text/html": [
       "<div>\n",
       "<style scoped>\n",
       "    .dataframe tbody tr th:only-of-type {\n",
       "        vertical-align: middle;\n",
       "    }\n",
       "\n",
       "    .dataframe tbody tr th {\n",
       "        vertical-align: top;\n",
       "    }\n",
       "\n",
       "    .dataframe thead th {\n",
       "        text-align: right;\n",
       "    }\n",
       "</style>\n",
       "<table border=\"1\" class=\"dataframe\">\n",
       "  <thead>\n",
       "    <tr style=\"text-align: right;\">\n",
       "      <th></th>\n",
       "      <th>iccid</th>\n",
       "      <th>used</th>\n",
       "      <th>plan_c</th>\n",
       "      <th>left</th>\n",
       "      <th>ac_time</th>\n",
       "      <th>product</th>\n",
       "      <th>company</th>\n",
       "      <th>carrier</th>\n",
       "      <th>plan_s</th>\n",
       "      <th>month</th>\n",
       "      <th>best_plan</th>\n",
       "      <th>best_cost</th>\n",
       "      <th>cost_with_plan_c</th>\n",
       "      <th>cost_with_plan_s</th>\n",
       "      <th>strategy_1</th>\n",
       "      <th>cost_with_strategy_1</th>\n",
       "    </tr>\n",
       "  </thead>\n",
       "  <tbody>\n",
       "    <tr>\n",
       "      <th>626150</th>\n",
       "      <td>898607B4071790000000</td>\n",
       "      <td>7.533</td>\n",
       "      <td>10.0</td>\n",
       "      <td>2.467</td>\n",
       "      <td>2018-01-16 15:21:11</td>\n",
       "      <td>SPB132</td>\n",
       "      <td>挚享科技（上海）有限公司</td>\n",
       "      <td>北京华虹</td>\n",
       "      <td>10.0</td>\n",
       "      <td>5</td>\n",
       "      <td>0</td>\n",
       "      <td>2.18457</td>\n",
       "      <td>3.0</td>\n",
       "      <td>3.0</td>\n",
       "      <td>0</td>\n",
       "      <td>2.18457</td>\n",
       "    </tr>\n",
       "    <tr>\n",
       "      <th>626151</th>\n",
       "      <td>898607B4071790000001</td>\n",
       "      <td>7.957</td>\n",
       "      <td>10.0</td>\n",
       "      <td>2.043</td>\n",
       "      <td>2018-01-16 15:21:44</td>\n",
       "      <td>SPB132</td>\n",
       "      <td>挚享科技（上海）有限公司</td>\n",
       "      <td>北京华虹</td>\n",
       "      <td>10.0</td>\n",
       "      <td>5</td>\n",
       "      <td>0</td>\n",
       "      <td>2.30753</td>\n",
       "      <td>3.0</td>\n",
       "      <td>3.0</td>\n",
       "      <td>0</td>\n",
       "      <td>2.30753</td>\n",
       "    </tr>\n",
       "    <tr>\n",
       "      <th>626152</th>\n",
       "      <td>898607B4071790000002</td>\n",
       "      <td>0.000</td>\n",
       "      <td>10.0</td>\n",
       "      <td>10.000</td>\n",
       "      <td>2018-01-16 15:19:09</td>\n",
       "      <td>SPB132</td>\n",
       "      <td>挚享科技（上海）有限公司</td>\n",
       "      <td>北京华虹</td>\n",
       "      <td>10.0</td>\n",
       "      <td>5</td>\n",
       "      <td>0</td>\n",
       "      <td>0.00000</td>\n",
       "      <td>3.0</td>\n",
       "      <td>3.0</td>\n",
       "      <td>0</td>\n",
       "      <td>0.00000</td>\n",
       "    </tr>\n",
       "    <tr>\n",
       "      <th>626153</th>\n",
       "      <td>898607B4071790000003</td>\n",
       "      <td>0.000</td>\n",
       "      <td>10.0</td>\n",
       "      <td>10.000</td>\n",
       "      <td>2018-02-09 11:10:04</td>\n",
       "      <td>SPB132</td>\n",
       "      <td>挚享科技（上海）有限公司</td>\n",
       "      <td>北京华虹</td>\n",
       "      <td>10.0</td>\n",
       "      <td>5</td>\n",
       "      <td>0</td>\n",
       "      <td>0.00000</td>\n",
       "      <td>3.0</td>\n",
       "      <td>3.0</td>\n",
       "      <td>0</td>\n",
       "      <td>0.00000</td>\n",
       "    </tr>\n",
       "    <tr>\n",
       "      <th>626154</th>\n",
       "      <td>898607B4071790000004</td>\n",
       "      <td>0.000</td>\n",
       "      <td>10.0</td>\n",
       "      <td>10.000</td>\n",
       "      <td>2018-01-16 15:21:28</td>\n",
       "      <td>SPB132</td>\n",
       "      <td>挚享科技（上海）有限公司</td>\n",
       "      <td>北京华虹</td>\n",
       "      <td>10.0</td>\n",
       "      <td>5</td>\n",
       "      <td>0</td>\n",
       "      <td>0.00000</td>\n",
       "      <td>3.0</td>\n",
       "      <td>3.0</td>\n",
       "      <td>0</td>\n",
       "      <td>0.00000</td>\n",
       "    </tr>\n",
       "  </tbody>\n",
       "</table>\n",
       "</div>"
      ],
      "text/plain": [
       "                       iccid   used  plan_c    left              ac_time  \\\n",
       "626150  898607B4071790000000  7.533    10.0   2.467  2018-01-16 15:21:11   \n",
       "626151  898607B4071790000001  7.957    10.0   2.043  2018-01-16 15:21:44   \n",
       "626152  898607B4071790000002  0.000    10.0  10.000  2018-01-16 15:19:09   \n",
       "626153  898607B4071790000003  0.000    10.0  10.000  2018-02-09 11:10:04   \n",
       "626154  898607B4071790000004  0.000    10.0  10.000  2018-01-16 15:21:28   \n",
       "\n",
       "       product       company carrier  plan_s  month  best_plan  best_cost  \\\n",
       "626150  SPB132  挚享科技（上海）有限公司    北京华虹    10.0      5          0    2.18457   \n",
       "626151  SPB132  挚享科技（上海）有限公司    北京华虹    10.0      5          0    2.30753   \n",
       "626152  SPB132  挚享科技（上海）有限公司    北京华虹    10.0      5          0    0.00000   \n",
       "626153  SPB132  挚享科技（上海）有限公司    北京华虹    10.0      5          0    0.00000   \n",
       "626154  SPB132  挚享科技（上海）有限公司    北京华虹    10.0      5          0    0.00000   \n",
       "\n",
       "        cost_with_plan_c  cost_with_plan_s  strategy_1  cost_with_strategy_1  \n",
       "626150               3.0               3.0           0               2.18457  \n",
       "626151               3.0               3.0           0               2.30753  \n",
       "626152               3.0               3.0           0               0.00000  \n",
       "626153               3.0               3.0           0               0.00000  \n",
       "626154               3.0               3.0           0               0.00000  "
      ]
     },
     "execution_count": 23,
     "metadata": {},
     "output_type": "execute_result"
    }
   ],
   "source": [
    "df_may.head()"
   ]
  },
  {
   "cell_type": "code",
   "execution_count": 24,
   "metadata": {
    "collapsed": false
   },
   "outputs": [
    {
     "data": {
      "text/html": [
       "<div>\n",
       "<style scoped>\n",
       "    .dataframe tbody tr th:only-of-type {\n",
       "        vertical-align: middle;\n",
       "    }\n",
       "\n",
       "    .dataframe tbody tr th {\n",
       "        vertical-align: top;\n",
       "    }\n",
       "\n",
       "    .dataframe thead th {\n",
       "        text-align: right;\n",
       "    }\n",
       "</style>\n",
       "<table border=\"1\" class=\"dataframe\">\n",
       "  <thead>\n",
       "    <tr style=\"text-align: right;\">\n",
       "      <th></th>\n",
       "      <th>used</th>\n",
       "      <th>plan_c</th>\n",
       "      <th>left</th>\n",
       "      <th>plan_s</th>\n",
       "      <th>month</th>\n",
       "      <th>best_plan</th>\n",
       "      <th>best_cost</th>\n",
       "      <th>cost_with_plan_c</th>\n",
       "      <th>cost_with_plan_s</th>\n",
       "      <th>strategy_1</th>\n",
       "      <th>cost_with_strategy_1</th>\n",
       "    </tr>\n",
       "  </thead>\n",
       "  <tbody>\n",
       "    <tr>\n",
       "      <th>count</th>\n",
       "      <td>183247.000000</td>\n",
       "      <td>183247.000000</td>\n",
       "      <td>183247.000000</td>\n",
       "      <td>183247.000000</td>\n",
       "      <td>183247.0</td>\n",
       "      <td>183247.000000</td>\n",
       "      <td>183247.000000</td>\n",
       "      <td>183247.000000</td>\n",
       "      <td>183247.000000</td>\n",
       "      <td>183247.000000</td>\n",
       "      <td>183247.000000</td>\n",
       "    </tr>\n",
       "    <tr>\n",
       "      <th>mean</th>\n",
       "      <td>4.101045</td>\n",
       "      <td>11.454540</td>\n",
       "      <td>7.534969</td>\n",
       "      <td>11.249679</td>\n",
       "      <td>5.0</td>\n",
       "      <td>0.424836</td>\n",
       "      <td>1.143621</td>\n",
       "      <td>3.198081</td>\n",
       "      <td>3.193722</td>\n",
       "      <td>0.470349</td>\n",
       "      <td>1.175090</td>\n",
       "    </tr>\n",
       "    <tr>\n",
       "      <th>std</th>\n",
       "      <td>7.696244</td>\n",
       "      <td>5.193771</td>\n",
       "      <td>5.691589</td>\n",
       "      <td>4.840663</td>\n",
       "      <td>0.0</td>\n",
       "      <td>9.046418</td>\n",
       "      <td>1.200516</td>\n",
       "      <td>1.852226</td>\n",
       "      <td>1.932930</td>\n",
       "      <td>8.229794</td>\n",
       "      <td>1.714331</td>\n",
       "    </tr>\n",
       "    <tr>\n",
       "      <th>min</th>\n",
       "      <td>0.000000</td>\n",
       "      <td>10.000000</td>\n",
       "      <td>0.000000</td>\n",
       "      <td>10.000000</td>\n",
       "      <td>5.0</td>\n",
       "      <td>0.000000</td>\n",
       "      <td>0.000000</td>\n",
       "      <td>3.000000</td>\n",
       "      <td>3.000000</td>\n",
       "      <td>0.000000</td>\n",
       "      <td>0.000000</td>\n",
       "    </tr>\n",
       "    <tr>\n",
       "      <th>25%</th>\n",
       "      <td>0.000000</td>\n",
       "      <td>10.000000</td>\n",
       "      <td>2.521000</td>\n",
       "      <td>10.000000</td>\n",
       "      <td>5.0</td>\n",
       "      <td>0.000000</td>\n",
       "      <td>0.000000</td>\n",
       "      <td>3.000000</td>\n",
       "      <td>3.000000</td>\n",
       "      <td>0.000000</td>\n",
       "      <td>0.000000</td>\n",
       "    </tr>\n",
       "    <tr>\n",
       "      <th>50%</th>\n",
       "      <td>3.846000</td>\n",
       "      <td>10.000000</td>\n",
       "      <td>8.096000</td>\n",
       "      <td>10.000000</td>\n",
       "      <td>5.0</td>\n",
       "      <td>0.000000</td>\n",
       "      <td>1.115340</td>\n",
       "      <td>3.000000</td>\n",
       "      <td>3.000000</td>\n",
       "      <td>0.000000</td>\n",
       "      <td>1.117370</td>\n",
       "    </tr>\n",
       "    <tr>\n",
       "      <th>75%</th>\n",
       "      <td>7.691000</td>\n",
       "      <td>10.000000</td>\n",
       "      <td>10.000000</td>\n",
       "      <td>10.000000</td>\n",
       "      <td>5.0</td>\n",
       "      <td>0.000000</td>\n",
       "      <td>2.230390</td>\n",
       "      <td>3.000000</td>\n",
       "      <td>3.000000</td>\n",
       "      <td>0.000000</td>\n",
       "      <td>2.231840</td>\n",
       "    </tr>\n",
       "    <tr>\n",
       "      <th>max</th>\n",
       "      <td>675.345000</td>\n",
       "      <td>30.000000</td>\n",
       "      <td>30.000000</td>\n",
       "      <td>30.000000</td>\n",
       "      <td>5.0</td>\n",
       "      <td>700.000000</td>\n",
       "      <td>32.000000</td>\n",
       "      <td>192.150050</td>\n",
       "      <td>195.950050</td>\n",
       "      <td>700.000000</td>\n",
       "      <td>150.816640</td>\n",
       "    </tr>\n",
       "  </tbody>\n",
       "</table>\n",
       "</div>"
      ],
      "text/plain": [
       "                used         plan_c           left         plan_s     month  \\\n",
       "count  183247.000000  183247.000000  183247.000000  183247.000000  183247.0   \n",
       "mean        4.101045      11.454540       7.534969      11.249679       5.0   \n",
       "std         7.696244       5.193771       5.691589       4.840663       0.0   \n",
       "min         0.000000      10.000000       0.000000      10.000000       5.0   \n",
       "25%         0.000000      10.000000       2.521000      10.000000       5.0   \n",
       "50%         3.846000      10.000000       8.096000      10.000000       5.0   \n",
       "75%         7.691000      10.000000      10.000000      10.000000       5.0   \n",
       "max       675.345000      30.000000      30.000000      30.000000       5.0   \n",
       "\n",
       "           best_plan      best_cost  cost_with_plan_c  cost_with_plan_s  \\\n",
       "count  183247.000000  183247.000000     183247.000000     183247.000000   \n",
       "mean        0.424836       1.143621          3.198081          3.193722   \n",
       "std         9.046418       1.200516          1.852226          1.932930   \n",
       "min         0.000000       0.000000          3.000000          3.000000   \n",
       "25%         0.000000       0.000000          3.000000          3.000000   \n",
       "50%         0.000000       1.115340          3.000000          3.000000   \n",
       "75%         0.000000       2.230390          3.000000          3.000000   \n",
       "max       700.000000      32.000000        192.150050        195.950050   \n",
       "\n",
       "          strategy_1  cost_with_strategy_1  \n",
       "count  183247.000000         183247.000000  \n",
       "mean        0.470349              1.175090  \n",
       "std         8.229794              1.714331  \n",
       "min         0.000000              0.000000  \n",
       "25%         0.000000              0.000000  \n",
       "50%         0.000000              1.117370  \n",
       "75%         0.000000              2.231840  \n",
       "max       700.000000            150.816640  "
      ]
     },
     "execution_count": 24,
     "metadata": {},
     "output_type": "execute_result"
    }
   ],
   "source": [
    "df_may.describe()"
   ]
  },
  {
   "cell_type": "code",
   "execution_count": 25,
   "metadata": {
    "collapsed": false
   },
   "outputs": [
    {
     "data": {
      "text/html": [
       "<div>\n",
       "<style scoped>\n",
       "    .dataframe tbody tr th:only-of-type {\n",
       "        vertical-align: middle;\n",
       "    }\n",
       "\n",
       "    .dataframe tbody tr th {\n",
       "        vertical-align: top;\n",
       "    }\n",
       "\n",
       "    .dataframe thead th {\n",
       "        text-align: right;\n",
       "    }\n",
       "</style>\n",
       "<table border=\"1\" class=\"dataframe\">\n",
       "  <thead>\n",
       "    <tr style=\"text-align: right;\">\n",
       "      <th></th>\n",
       "      <th>iccid</th>\n",
       "      <th>used</th>\n",
       "      <th>plan_c</th>\n",
       "      <th>product</th>\n",
       "      <th>company</th>\n",
       "      <th>best_plan</th>\n",
       "      <th>best_cost</th>\n",
       "      <th>cost_with_plan_c</th>\n",
       "      <th>cost_with_plan_s</th>\n",
       "      <th>strategy_1</th>\n",
       "      <th>cost_with_strategy_1</th>\n",
       "      <th>diff_strategy_1</th>\n",
       "    </tr>\n",
       "  </thead>\n",
       "  <tbody>\n",
       "    <tr>\n",
       "      <th>736954</th>\n",
       "      <td>898607B4071790061036</td>\n",
       "      <td>532.816</td>\n",
       "      <td>30.0</td>\n",
       "      <td>SPB132</td>\n",
       "      <td>挚享科技（上海）有限公司</td>\n",
       "      <td>700</td>\n",
       "      <td>32.00000</td>\n",
       "      <td>150.81664</td>\n",
       "      <td>154.61664</td>\n",
       "      <td>30</td>\n",
       "      <td>150.81664</td>\n",
       "      <td>118.81664</td>\n",
       "    </tr>\n",
       "    <tr>\n",
       "      <th>736359</th>\n",
       "      <td>898607B4071790060425</td>\n",
       "      <td>503.447</td>\n",
       "      <td>30.0</td>\n",
       "      <td>SPB132</td>\n",
       "      <td>挚享科技（上海）有限公司</td>\n",
       "      <td>500</td>\n",
       "      <td>24.99963</td>\n",
       "      <td>142.29963</td>\n",
       "      <td>146.09963</td>\n",
       "      <td>100</td>\n",
       "      <td>124.99963</td>\n",
       "      <td>100.00000</td>\n",
       "    </tr>\n",
       "    <tr>\n",
       "      <th>736236</th>\n",
       "      <td>898607B4071790060293</td>\n",
       "      <td>418.358</td>\n",
       "      <td>30.0</td>\n",
       "      <td>SPB132</td>\n",
       "      <td>挚享科技（上海）有限公司</td>\n",
       "      <td>500</td>\n",
       "      <td>24.00000</td>\n",
       "      <td>117.62382</td>\n",
       "      <td>121.42382</td>\n",
       "      <td>30</td>\n",
       "      <td>117.62382</td>\n",
       "      <td>93.62382</td>\n",
       "    </tr>\n",
       "    <tr>\n",
       "      <th>737092</th>\n",
       "      <td>898607B4071790061183</td>\n",
       "      <td>457.970</td>\n",
       "      <td>30.0</td>\n",
       "      <td>SPB132</td>\n",
       "      <td>挚享科技（上海）有限公司</td>\n",
       "      <td>500</td>\n",
       "      <td>24.00000</td>\n",
       "      <td>129.11130</td>\n",
       "      <td>132.91130</td>\n",
       "      <td>100</td>\n",
       "      <td>111.81130</td>\n",
       "      <td>87.81130</td>\n",
       "    </tr>\n",
       "    <tr>\n",
       "      <th>736182</th>\n",
       "      <td>898607B4071790060238</td>\n",
       "      <td>381.362</td>\n",
       "      <td>30.0</td>\n",
       "      <td>SPB132</td>\n",
       "      <td>挚享科技（上海）有限公司</td>\n",
       "      <td>500</td>\n",
       "      <td>24.00000</td>\n",
       "      <td>106.89498</td>\n",
       "      <td>110.69498</td>\n",
       "      <td>0</td>\n",
       "      <td>110.59498</td>\n",
       "      <td>86.59498</td>\n",
       "    </tr>\n",
       "  </tbody>\n",
       "</table>\n",
       "</div>"
      ],
      "text/plain": [
       "                       iccid     used  plan_c product       company  \\\n",
       "736954  898607B4071790061036  532.816    30.0  SPB132  挚享科技（上海）有限公司   \n",
       "736359  898607B4071790060425  503.447    30.0  SPB132  挚享科技（上海）有限公司   \n",
       "736236  898607B4071790060293  418.358    30.0  SPB132  挚享科技（上海）有限公司   \n",
       "737092  898607B4071790061183  457.970    30.0  SPB132  挚享科技（上海）有限公司   \n",
       "736182  898607B4071790060238  381.362    30.0  SPB132  挚享科技（上海）有限公司   \n",
       "\n",
       "        best_plan  best_cost  cost_with_plan_c  cost_with_plan_s  strategy_1  \\\n",
       "736954        700   32.00000         150.81664         154.61664          30   \n",
       "736359        500   24.99963         142.29963         146.09963         100   \n",
       "736236        500   24.00000         117.62382         121.42382          30   \n",
       "737092        500   24.00000         129.11130         132.91130         100   \n",
       "736182        500   24.00000         106.89498         110.69498           0   \n",
       "\n",
       "        cost_with_strategy_1  diff_strategy_1  \n",
       "736954             150.81664        118.81664  \n",
       "736359             124.99963        100.00000  \n",
       "736236             117.62382         93.62382  \n",
       "737092             111.81130         87.81130  \n",
       "736182             110.59498         86.59498  "
      ]
     },
     "execution_count": 25,
     "metadata": {},
     "output_type": "execute_result"
    }
   ],
   "source": [
    "# where does strategy 1 performs worst?\n",
    "df_may['diff_strategy_1'] = df_may['cost_with_strategy_1'] - df_may['best_cost']\n",
    "df_may.sort_values('diff_strategy_1', ascending=False).drop(['ac_time','left','month','plan_s','carrier'],axis=1).head()"
   ]
  },
  {
   "cell_type": "code",
   "execution_count": 26,
   "metadata": {
    "collapsed": false
   },
   "outputs": [
    {
     "data": {
      "text/html": [
       "<div>\n",
       "<style scoped>\n",
       "    .dataframe tbody tr th:only-of-type {\n",
       "        vertical-align: middle;\n",
       "    }\n",
       "\n",
       "    .dataframe tbody tr th {\n",
       "        vertical-align: top;\n",
       "    }\n",
       "\n",
       "    .dataframe thead th {\n",
       "        text-align: right;\n",
       "    }\n",
       "</style>\n",
       "<table border=\"1\" class=\"dataframe\">\n",
       "  <thead>\n",
       "    <tr style=\"text-align: right;\">\n",
       "      <th></th>\n",
       "      <th>used</th>\n",
       "      <th>plan_c</th>\n",
       "      <th>left</th>\n",
       "      <th>plan_s</th>\n",
       "      <th>month</th>\n",
       "      <th>best_plan</th>\n",
       "      <th>best_cost</th>\n",
       "      <th>cost_with_plan_c</th>\n",
       "      <th>cost_with_plan_s</th>\n",
       "      <th>strategy_1</th>\n",
       "      <th>cost_with_strategy_1</th>\n",
       "      <th>diff_strategy_1</th>\n",
       "    </tr>\n",
       "  </thead>\n",
       "  <tbody>\n",
       "    <tr>\n",
       "      <th>count</th>\n",
       "      <td>183247.000000</td>\n",
       "      <td>183247.000000</td>\n",
       "      <td>183247.000000</td>\n",
       "      <td>183247.000000</td>\n",
       "      <td>183247.0</td>\n",
       "      <td>183247.000000</td>\n",
       "      <td>183247.000000</td>\n",
       "      <td>183247.000000</td>\n",
       "      <td>183247.000000</td>\n",
       "      <td>183247.000000</td>\n",
       "      <td>183247.000000</td>\n",
       "      <td>183247.000000</td>\n",
       "    </tr>\n",
       "    <tr>\n",
       "      <th>mean</th>\n",
       "      <td>4.101045</td>\n",
       "      <td>11.454540</td>\n",
       "      <td>7.534969</td>\n",
       "      <td>11.249679</td>\n",
       "      <td>5.0</td>\n",
       "      <td>0.424836</td>\n",
       "      <td>1.143621</td>\n",
       "      <td>3.198081</td>\n",
       "      <td>3.193722</td>\n",
       "      <td>0.470349</td>\n",
       "      <td>1.175090</td>\n",
       "      <td>0.031469</td>\n",
       "    </tr>\n",
       "    <tr>\n",
       "      <th>std</th>\n",
       "      <td>7.696244</td>\n",
       "      <td>5.193771</td>\n",
       "      <td>5.691589</td>\n",
       "      <td>4.840663</td>\n",
       "      <td>0.0</td>\n",
       "      <td>9.046418</td>\n",
       "      <td>1.200516</td>\n",
       "      <td>1.852226</td>\n",
       "      <td>1.932930</td>\n",
       "      <td>8.229794</td>\n",
       "      <td>1.714331</td>\n",
       "      <td>0.933096</td>\n",
       "    </tr>\n",
       "    <tr>\n",
       "      <th>min</th>\n",
       "      <td>0.000000</td>\n",
       "      <td>10.000000</td>\n",
       "      <td>0.000000</td>\n",
       "      <td>10.000000</td>\n",
       "      <td>5.0</td>\n",
       "      <td>0.000000</td>\n",
       "      <td>0.000000</td>\n",
       "      <td>3.000000</td>\n",
       "      <td>3.000000</td>\n",
       "      <td>0.000000</td>\n",
       "      <td>0.000000</td>\n",
       "      <td>0.000000</td>\n",
       "    </tr>\n",
       "    <tr>\n",
       "      <th>25%</th>\n",
       "      <td>0.000000</td>\n",
       "      <td>10.000000</td>\n",
       "      <td>2.521000</td>\n",
       "      <td>10.000000</td>\n",
       "      <td>5.0</td>\n",
       "      <td>0.000000</td>\n",
       "      <td>0.000000</td>\n",
       "      <td>3.000000</td>\n",
       "      <td>3.000000</td>\n",
       "      <td>0.000000</td>\n",
       "      <td>0.000000</td>\n",
       "      <td>0.000000</td>\n",
       "    </tr>\n",
       "    <tr>\n",
       "      <th>50%</th>\n",
       "      <td>3.846000</td>\n",
       "      <td>10.000000</td>\n",
       "      <td>8.096000</td>\n",
       "      <td>10.000000</td>\n",
       "      <td>5.0</td>\n",
       "      <td>0.000000</td>\n",
       "      <td>1.115340</td>\n",
       "      <td>3.000000</td>\n",
       "      <td>3.000000</td>\n",
       "      <td>0.000000</td>\n",
       "      <td>1.117370</td>\n",
       "      <td>0.000000</td>\n",
       "    </tr>\n",
       "    <tr>\n",
       "      <th>75%</th>\n",
       "      <td>7.691000</td>\n",
       "      <td>10.000000</td>\n",
       "      <td>10.000000</td>\n",
       "      <td>10.000000</td>\n",
       "      <td>5.0</td>\n",
       "      <td>0.000000</td>\n",
       "      <td>2.230390</td>\n",
       "      <td>3.000000</td>\n",
       "      <td>3.000000</td>\n",
       "      <td>0.000000</td>\n",
       "      <td>2.231840</td>\n",
       "      <td>0.000000</td>\n",
       "    </tr>\n",
       "    <tr>\n",
       "      <th>max</th>\n",
       "      <td>675.345000</td>\n",
       "      <td>30.000000</td>\n",
       "      <td>30.000000</td>\n",
       "      <td>30.000000</td>\n",
       "      <td>5.0</td>\n",
       "      <td>700.000000</td>\n",
       "      <td>32.000000</td>\n",
       "      <td>192.150050</td>\n",
       "      <td>195.950050</td>\n",
       "      <td>700.000000</td>\n",
       "      <td>150.816640</td>\n",
       "      <td>118.816640</td>\n",
       "    </tr>\n",
       "  </tbody>\n",
       "</table>\n",
       "</div>"
      ],
      "text/plain": [
       "                used         plan_c           left         plan_s     month  \\\n",
       "count  183247.000000  183247.000000  183247.000000  183247.000000  183247.0   \n",
       "mean        4.101045      11.454540       7.534969      11.249679       5.0   \n",
       "std         7.696244       5.193771       5.691589       4.840663       0.0   \n",
       "min         0.000000      10.000000       0.000000      10.000000       5.0   \n",
       "25%         0.000000      10.000000       2.521000      10.000000       5.0   \n",
       "50%         3.846000      10.000000       8.096000      10.000000       5.0   \n",
       "75%         7.691000      10.000000      10.000000      10.000000       5.0   \n",
       "max       675.345000      30.000000      30.000000      30.000000       5.0   \n",
       "\n",
       "           best_plan      best_cost  cost_with_plan_c  cost_with_plan_s  \\\n",
       "count  183247.000000  183247.000000     183247.000000     183247.000000   \n",
       "mean        0.424836       1.143621          3.198081          3.193722   \n",
       "std         9.046418       1.200516          1.852226          1.932930   \n",
       "min         0.000000       0.000000          3.000000          3.000000   \n",
       "25%         0.000000       0.000000          3.000000          3.000000   \n",
       "50%         0.000000       1.115340          3.000000          3.000000   \n",
       "75%         0.000000       2.230390          3.000000          3.000000   \n",
       "max       700.000000      32.000000        192.150050        195.950050   \n",
       "\n",
       "          strategy_1  cost_with_strategy_1  diff_strategy_1  \n",
       "count  183247.000000         183247.000000    183247.000000  \n",
       "mean        0.470349              1.175090         0.031469  \n",
       "std         8.229794              1.714331         0.933096  \n",
       "min         0.000000              0.000000         0.000000  \n",
       "25%         0.000000              0.000000         0.000000  \n",
       "50%         0.000000              1.117370         0.000000  \n",
       "75%         0.000000              2.231840         0.000000  \n",
       "max       700.000000            150.816640       118.816640  "
      ]
     },
     "execution_count": 26,
     "metadata": {},
     "output_type": "execute_result"
    }
   ],
   "source": [
    "df_may.describe()"
   ]
  },
  {
   "cell_type": "code",
   "execution_count": 28,
   "metadata": {
    "collapsed": true
   },
   "outputs": [],
   "source": [
    "# Usage pool\n",
    "df_flt_may = df_flt[df_flt['month']==5]"
   ]
  },
  {
   "cell_type": "code",
   "execution_count": 29,
   "metadata": {
    "collapsed": false
   },
   "outputs": [
    {
     "data": {
      "text/html": [
       "<div>\n",
       "<style scoped>\n",
       "    .dataframe tbody tr th:only-of-type {\n",
       "        vertical-align: middle;\n",
       "    }\n",
       "\n",
       "    .dataframe tbody tr th {\n",
       "        vertical-align: top;\n",
       "    }\n",
       "\n",
       "    .dataframe thead th {\n",
       "        text-align: right;\n",
       "    }\n",
       "</style>\n",
       "<table border=\"1\" class=\"dataframe\">\n",
       "  <thead>\n",
       "    <tr style=\"text-align: right;\">\n",
       "      <th></th>\n",
       "      <th>used</th>\n",
       "      <th>plan_c</th>\n",
       "      <th>left</th>\n",
       "      <th>plan_s</th>\n",
       "      <th>month</th>\n",
       "    </tr>\n",
       "  </thead>\n",
       "  <tbody>\n",
       "    <tr>\n",
       "      <th>count</th>\n",
       "      <td>233179.000000</td>\n",
       "      <td>233179.000000</td>\n",
       "      <td>233179.000000</td>\n",
       "      <td>233179.000000</td>\n",
       "      <td>233179.0</td>\n",
       "    </tr>\n",
       "    <tr>\n",
       "      <th>mean</th>\n",
       "      <td>4.068857</td>\n",
       "      <td>9.030187</td>\n",
       "      <td>5.943850</td>\n",
       "      <td>13.843828</td>\n",
       "      <td>5.0</td>\n",
       "    </tr>\n",
       "    <tr>\n",
       "      <th>std</th>\n",
       "      <td>10.975288</td>\n",
       "      <td>6.576714</td>\n",
       "      <td>5.923328</td>\n",
       "      <td>14.769959</td>\n",
       "      <td>0.0</td>\n",
       "    </tr>\n",
       "    <tr>\n",
       "      <th>min</th>\n",
       "      <td>0.000000</td>\n",
       "      <td>0.000000</td>\n",
       "      <td>0.000000</td>\n",
       "      <td>10.000000</td>\n",
       "      <td>5.0</td>\n",
       "    </tr>\n",
       "    <tr>\n",
       "      <th>25%</th>\n",
       "      <td>0.000000</td>\n",
       "      <td>10.000000</td>\n",
       "      <td>1.293000</td>\n",
       "      <td>10.000000</td>\n",
       "      <td>5.0</td>\n",
       "    </tr>\n",
       "    <tr>\n",
       "      <th>50%</th>\n",
       "      <td>2.952000</td>\n",
       "      <td>10.000000</td>\n",
       "      <td>4.718000</td>\n",
       "      <td>10.000000</td>\n",
       "      <td>5.0</td>\n",
       "    </tr>\n",
       "    <tr>\n",
       "      <th>75%</th>\n",
       "      <td>7.411000</td>\n",
       "      <td>10.000000</td>\n",
       "      <td>10.000000</td>\n",
       "      <td>10.000000</td>\n",
       "      <td>5.0</td>\n",
       "    </tr>\n",
       "    <tr>\n",
       "      <th>max</th>\n",
       "      <td>1131.039000</td>\n",
       "      <td>30.000000</td>\n",
       "      <td>30.000000</td>\n",
       "      <td>500.000000</td>\n",
       "      <td>5.0</td>\n",
       "    </tr>\n",
       "  </tbody>\n",
       "</table>\n",
       "</div>"
      ],
      "text/plain": [
       "                used         plan_c           left         plan_s     month\n",
       "count  233179.000000  233179.000000  233179.000000  233179.000000  233179.0\n",
       "mean        4.068857       9.030187       5.943850      13.843828       5.0\n",
       "std        10.975288       6.576714       5.923328      14.769959       0.0\n",
       "min         0.000000       0.000000       0.000000      10.000000       5.0\n",
       "25%         0.000000      10.000000       1.293000      10.000000       5.0\n",
       "50%         2.952000      10.000000       4.718000      10.000000       5.0\n",
       "75%         7.411000      10.000000      10.000000      10.000000       5.0\n",
       "max      1131.039000      30.000000      30.000000     500.000000       5.0"
      ]
     },
     "execution_count": 29,
     "metadata": {},
     "output_type": "execute_result"
    }
   ],
   "source": [
    "df_flt_may.describe()"
   ]
  },
  {
   "cell_type": "code",
   "execution_count": 30,
   "metadata": {
    "collapsed": false
   },
   "outputs": [
    {
     "data": {
      "text/plain": [
       "948771.8970000054"
      ]
     },
     "execution_count": 30,
     "metadata": {},
     "output_type": "execute_result"
    }
   ],
   "source": [
    "sum(df_flt_may['used'])"
   ]
  },
  {
   "cell_type": "code",
   "execution_count": 31,
   "metadata": {
    "collapsed": false
   },
   "outputs": [
    {
     "data": {
      "text/plain": [
       "2105650.0"
      ]
     },
     "execution_count": 31,
     "metadata": {},
     "output_type": "execute_result"
    }
   ],
   "source": [
    "sum(df_flt_may['plan_c'])"
   ]
  },
  {
   "cell_type": "code",
   "execution_count": 32,
   "metadata": {
    "collapsed": false
   },
   "outputs": [
    {
     "data": {
      "text/plain": [
       "3228090.0"
      ]
     },
     "execution_count": 32,
     "metadata": {},
     "output_type": "execute_result"
    }
   ],
   "source": [
    "sum(df_flt_may['plan_s'])"
   ]
  },
  {
   "cell_type": "code",
   "execution_count": 33,
   "metadata": {
    "collapsed": false
   },
   "outputs": [
    {
     "data": {
      "text/html": [
       "<div>\n",
       "<style scoped>\n",
       "    .dataframe tbody tr th:only-of-type {\n",
       "        vertical-align: middle;\n",
       "    }\n",
       "\n",
       "    .dataframe tbody tr th {\n",
       "        vertical-align: top;\n",
       "    }\n",
       "\n",
       "    .dataframe thead th {\n",
       "        text-align: right;\n",
       "    }\n",
       "</style>\n",
       "<table border=\"1\" class=\"dataframe\">\n",
       "  <thead>\n",
       "    <tr style=\"text-align: right;\">\n",
       "      <th></th>\n",
       "      <th>iccid</th>\n",
       "      <th>used</th>\n",
       "      <th>plan_c</th>\n",
       "      <th>left</th>\n",
       "      <th>ac_time</th>\n",
       "      <th>product</th>\n",
       "      <th>company</th>\n",
       "      <th>carrier</th>\n",
       "      <th>plan_s</th>\n",
       "      <th>month</th>\n",
       "      <th>best_plan</th>\n",
       "      <th>best_cost</th>\n",
       "      <th>cost_with_plan_c</th>\n",
       "      <th>cost_with_plan_s</th>\n",
       "      <th>strategy_1</th>\n",
       "      <th>cost_with_strategy_1</th>\n",
       "      <th>diff_strategy_1</th>\n",
       "    </tr>\n",
       "  </thead>\n",
       "  <tbody>\n",
       "    <tr>\n",
       "      <th>809911</th>\n",
       "      <td>898602B9211770016453</td>\n",
       "      <td>2.383</td>\n",
       "      <td>30.0</td>\n",
       "      <td>27.617</td>\n",
       "      <td>2018-03-08 00:20:46</td>\n",
       "      <td>智能柜</td>\n",
       "      <td>杭州云造科技有限公司</td>\n",
       "      <td>中国移动物联网平台广西分公司</td>\n",
       "      <td>30.0</td>\n",
       "      <td>5</td>\n",
       "      <td>0</td>\n",
       "      <td>0.69107</td>\n",
       "      <td>5.0</td>\n",
       "      <td>5.0</td>\n",
       "      <td>0</td>\n",
       "      <td>0.69107</td>\n",
       "      <td>0.0</td>\n",
       "    </tr>\n",
       "    <tr>\n",
       "      <th>809912</th>\n",
       "      <td>898602B9211770016454</td>\n",
       "      <td>0.006</td>\n",
       "      <td>30.0</td>\n",
       "      <td>29.994</td>\n",
       "      <td>2018-03-01 08:57:26</td>\n",
       "      <td>智能车锁</td>\n",
       "      <td>杭州云造科技有限公司</td>\n",
       "      <td>中国移动物联网平台广西分公司</td>\n",
       "      <td>30.0</td>\n",
       "      <td>5</td>\n",
       "      <td>0</td>\n",
       "      <td>0.00174</td>\n",
       "      <td>5.0</td>\n",
       "      <td>5.0</td>\n",
       "      <td>0</td>\n",
       "      <td>0.00174</td>\n",
       "      <td>0.0</td>\n",
       "    </tr>\n",
       "    <tr>\n",
       "      <th>809913</th>\n",
       "      <td>898602B9211770016459</td>\n",
       "      <td>0.080</td>\n",
       "      <td>30.0</td>\n",
       "      <td>29.920</td>\n",
       "      <td>2018-03-08 00:20:39</td>\n",
       "      <td>智能柜</td>\n",
       "      <td>杭州云造科技有限公司</td>\n",
       "      <td>中国移动物联网平台广西分公司</td>\n",
       "      <td>30.0</td>\n",
       "      <td>5</td>\n",
       "      <td>0</td>\n",
       "      <td>0.02320</td>\n",
       "      <td>5.0</td>\n",
       "      <td>5.0</td>\n",
       "      <td>0</td>\n",
       "      <td>0.02320</td>\n",
       "      <td>0.0</td>\n",
       "    </tr>\n",
       "  </tbody>\n",
       "</table>\n",
       "</div>"
      ],
      "text/plain": [
       "                       iccid   used  plan_c    left              ac_time  \\\n",
       "809911  898602B9211770016453  2.383    30.0  27.617  2018-03-08 00:20:46   \n",
       "809912  898602B9211770016454  0.006    30.0  29.994  2018-03-01 08:57:26   \n",
       "809913  898602B9211770016459  0.080    30.0  29.920  2018-03-08 00:20:39   \n",
       "\n",
       "       product     company         carrier  plan_s  month  best_plan  \\\n",
       "809911     智能柜  杭州云造科技有限公司  中国移动物联网平台广西分公司    30.0      5          0   \n",
       "809912    智能车锁  杭州云造科技有限公司  中国移动物联网平台广西分公司    30.0      5          0   \n",
       "809913     智能柜  杭州云造科技有限公司  中国移动物联网平台广西分公司    30.0      5          0   \n",
       "\n",
       "        best_cost  cost_with_plan_c  cost_with_plan_s  strategy_1  \\\n",
       "809911    0.69107               5.0               5.0           0   \n",
       "809912    0.00174               5.0               5.0           0   \n",
       "809913    0.02320               5.0               5.0           0   \n",
       "\n",
       "        cost_with_strategy_1  diff_strategy_1  \n",
       "809911               0.69107              0.0  \n",
       "809912               0.00174              0.0  \n",
       "809913               0.02320              0.0  "
      ]
     },
     "execution_count": 33,
     "metadata": {},
     "output_type": "execute_result"
    }
   ],
   "source": [
    "df_may.tail(3)"
   ]
  },
  {
   "cell_type": "code",
   "execution_count": 34,
   "metadata": {
    "collapsed": false
   },
   "outputs": [
    {
     "name": "stdout",
     "output_type": "stream",
     "text": [
      "Total Devices in May that are activated (and have a plan) before May: 183247\n",
      "Device with zero used data: 71685\n",
      "May cost - best plan: $209565.20\n",
      "May cost - plan_c   : $586038.71\n",
      "May cost - strategy1: $215331.79\n"
     ]
    }
   ],
   "source": [
    "# No usage pool\n",
    "cnt_device = len(df_may)\n",
    "cnt_device_unused = len(df_may[df_may['used']==0])\n",
    "print(\"Total Devices in May that are activated (and have a plan) before May: {}\".format(cnt_device))\n",
    "print(\"Device with zero used data: {}\".format(cnt_device_unused))\n",
    "print(\"May cost - best plan: ${0:.2f}\".format(sum(df_may['best_cost'])))\n",
    "print(\"May cost - plan_c   : ${0:.2f}\".format(sum(df_may['cost_with_plan_c'])))\n",
    "print(\"May cost - strategy1: ${0:.2f}\".format(sum(df_may['cost_with_strategy_1'])))"
   ]
  },
  {
   "cell_type": "code",
   "execution_count": 60,
   "metadata": {
    "collapsed": false
   },
   "outputs": [
    {
     "name": "stderr",
     "output_type": "stream",
     "text": [
      "C:\\Anaconda3\\lib\\site-packages\\ipykernel\\__main__.py:7: SettingWithCopyWarning: \n",
      "A value is trying to be set on a copy of a slice from a DataFrame.\n",
      "Try using .loc[row_indexer,col_indexer] = value instead\n",
      "\n",
      "See the caveats in the documentation: http://pandas.pydata.org/pandas-docs/stable/indexing.html#indexing-view-versus-copy\n"
     ]
    }
   ],
   "source": [
    "# Usage pool, plan cost\n",
    "from importlib import reload\n",
    "import metric\n",
    "from metric import get_plan_fix_cost\n",
    "reload(metric)\n",
    "#reload(get_plan_fix_cost)\n",
    "df_may_full['plan_cost'] = df_may_full['plan_c'].apply(get_plan_fix_cost)"
   ]
  },
  {
   "cell_type": "code",
   "execution_count": 65,
   "metadata": {
    "collapsed": false
   },
   "outputs": [
    {
     "data": {
      "text/plain": [
       "578211.0"
      ]
     },
     "execution_count": 65,
     "metadata": {},
     "output_type": "execute_result"
    }
   ],
   "source": [
    "sum(df_may_full['plan_cost'])"
   ]
  },
  {
   "cell_type": "code",
   "execution_count": null,
   "metadata": {
    "collapsed": false
   },
   "outputs": [],
   "source": [
    "# With usage pool\n",
    "#df_may_full = df[df['month']==5]\n",
    "print(\"Total devices in May: {}\".format(len(df_may_full)))\n",
    "print(\"Total usage in May  : {0:.0f}\".format(sum(df_may_full['used'])))\n",
    "print(\"Total plan_c in May : {0:.0f}\".format(sum(df_may_full['plan_c'])))\n",
    "print(\"Extra cost vs. best : ${0:.2f}\".format(0.29 * (sum(df_may_full['plan_cost']) - sum(df_may_full['used'])) ))\n",
    "print(\"Total plan_s in May : {0:.0f}\".format(sum(df_may_full['plan_s'].fillna(0))))  # note some N/A in plan_s"
   ]
  },
  {
   "cell_type": "code",
   "execution_count": null,
   "metadata": {
    "collapsed": false
   },
   "outputs": [],
   "source": [
    "df_may_full[df_may_full['plan_s'].isna()]"
   ]
  },
  {
   "cell_type": "code",
   "execution_count": null,
   "metadata": {
    "collapsed": false
   },
   "outputs": [],
   "source": [
    "df.groupby('month')['iccid'].count()"
   ]
  },
  {
   "cell_type": "code",
   "execution_count": null,
   "metadata": {
    "collapsed": false
   },
   "outputs": [],
   "source": [
    "df.groupby('month')['iccid'].nunique()"
   ]
  },
  {
   "cell_type": "code",
   "execution_count": null,
   "metadata": {
    "collapsed": false
   },
   "outputs": [],
   "source": [
    "df.groupby('month')['used'].sum()"
   ]
  },
  {
   "cell_type": "code",
   "execution_count": 97,
   "metadata": {
    "collapsed": false
   },
   "outputs": [
    {
     "data": {
      "text/plain": [
       "<module 'metric' from 'D:\\\\device_usage\\\\metric.py'>"
      ]
     },
     "execution_count": 97,
     "metadata": {},
     "output_type": "execute_result"
    }
   ],
   "source": [
    "from importlib import reload\n",
    "reload(metric)"
   ]
  },
  {
   "cell_type": "code",
   "execution_count": null,
   "metadata": {
    "collapsed": true
   },
   "outputs": [],
   "source": []
  },
  {
   "cell_type": "code",
   "execution_count": null,
   "metadata": {
    "collapsed": true
   },
   "outputs": [],
   "source": []
  },
  {
   "cell_type": "code",
   "execution_count": null,
   "metadata": {
    "collapsed": true
   },
   "outputs": [],
   "source": []
  },
  {
   "cell_type": "code",
   "execution_count": 88,
   "metadata": {
    "collapsed": false
   },
   "outputs": [],
   "source": [
    "# Read data\n",
    "df = pd.read_csv(r'data.csv', dtype=schema, encoding='utf-8')\n",
    "# Pre-processing\n",
    "df.drop(['state'], axis=1, inplace=True)\n",
    "df.fillna(0, inplace=True)"
   ]
  },
  {
   "cell_type": "code",
   "execution_count": 93,
   "metadata": {
    "collapsed": false
   },
   "outputs": [
    {
     "data": {
      "text/plain": [
       "10.0      847459\n",
       "0.0       188760\n",
       "30.0       63016\n",
       "6.0            5\n",
       "2048.0         2\n",
       "1024.0         2\n",
       "Name: plan_c, dtype: int64"
      ]
     },
     "execution_count": 93,
     "metadata": {},
     "output_type": "execute_result"
    }
   ],
   "source": [
    "df['plan_c'].value_counts()"
   ]
  },
  {
   "cell_type": "code",
   "execution_count": 99,
   "metadata": {
    "collapsed": false
   },
   "outputs": [
    {
     "data": {
      "text/plain": [
       "10.0      956321\n",
       "30.0      142399\n",
       "500.0        412\n",
       "3072.0        30\n",
       "5.0           27\n",
       "0.0           23\n",
       "2048.0        16\n",
       "4096.0         9\n",
       "1024.0         2\n",
       "Name: plan_s, dtype: int64"
      ]
     },
     "execution_count": 99,
     "metadata": {},
     "output_type": "execute_result"
    }
   ],
   "source": [
    "df['plan_s'].value_counts()"
   ]
  },
  {
   "cell_type": "code",
   "execution_count": 94,
   "metadata": {
    "collapsed": true
   },
   "outputs": [],
   "source": [
    "# Remove outlier  (plan_c == 6)\n",
    "df = df[df['plan_c']!=6]"
   ]
  },
  {
   "cell_type": "code",
   "execution_count": 95,
   "metadata": {
    "collapsed": false
   },
   "outputs": [],
   "source": [
    "from metric import *\n",
    "df['best_plan'], df['best_cost'], df['cost_with_plan_c'] = \\\n",
    "    zip(*df.apply(lambda row: get_best_plan_and_cost(row['used'], row['plan_c']), axis=1))"
   ]
  },
  {
   "cell_type": "code",
   "execution_count": 98,
   "metadata": {
    "collapsed": false
   },
   "outputs": [],
   "source": [
    "# User perceived cost\n",
    "_, _, df['cost_with_plan_s'] = \\\n",
    "    zip(*df.apply(lambda row: get_best_plan_and_cost(row['used'], row['plan_s']), axis=1))"
   ]
  },
  {
   "cell_type": "code",
   "execution_count": 100,
   "metadata": {
    "collapsed": false
   },
   "outputs": [],
   "source": [
    "# Load Apr and May data\n",
    "df_apr = df[df['month']==4]\n",
    "df_may = df[df['month']==5]"
   ]
  },
  {
   "cell_type": "code",
   "execution_count": 101,
   "metadata": {
    "collapsed": false
   },
   "outputs": [
    {
     "name": "stderr",
     "output_type": "stream",
     "text": [
      "C:\\Anaconda3\\lib\\site-packages\\ipykernel\\__main__.py:2: SettingWithCopyWarning: \n",
      "A value is trying to be set on a copy of a slice from a DataFrame.\n",
      "Try using .loc[row_indexer,col_indexer] = value instead\n",
      "\n",
      "See the caveats in the documentation: http://pandas.pydata.org/pandas-docs/stable/indexing.html#indexing-view-versus-copy\n",
      "  from ipykernel import kernelapp as app\n"
     ]
    }
   ],
   "source": [
    "# Actual cost\n",
    "df_may['actual_cost'] = df_may['plan_c'].apply(get_plan_fix_cost)"
   ]
  },
  {
   "cell_type": "code",
   "execution_count": 102,
   "metadata": {
    "collapsed": false
   },
   "outputs": [
    {
     "name": "stdout",
     "output_type": "stream",
     "text": [
      "Acutal cost in May: $578211.0\n"
     ]
    }
   ],
   "source": [
    "print(\"Acutal cost in May: ${}\".format(sum(df_may['actual_cost'])))"
   ]
  },
  {
   "cell_type": "code",
   "execution_count": 121,
   "metadata": {
    "collapsed": false
   },
   "outputs": [
    {
     "name": "stderr",
     "output_type": "stream",
     "text": [
      "C:\\Anaconda3\\lib\\site-packages\\ipykernel\\__main__.py:6: SettingWithCopyWarning: \n",
      "A value is trying to be set on a copy of a slice from a DataFrame.\n",
      "Try using .loc[row_indexer,col_indexer] = value instead\n",
      "\n",
      "See the caveats in the documentation: http://pandas.pydata.org/pandas-docs/stable/indexing.html#indexing-view-versus-copy\n",
      "C:\\Anaconda3\\lib\\site-packages\\ipykernel\\__main__.py:7: SettingWithCopyWarning: \n",
      "A value is trying to be set on a copy of a slice from a DataFrame.\n",
      "Try using .loc[row_indexer,col_indexer] = value instead\n",
      "\n",
      "See the caveats in the documentation: http://pandas.pydata.org/pandas-docs/stable/indexing.html#indexing-view-versus-copy\n",
      "C:\\Anaconda3\\lib\\site-packages\\ipykernel\\__main__.py:8: SettingWithCopyWarning: \n",
      "A value is trying to be set on a copy of a slice from a DataFrame.\n",
      "Try using .loc[row_indexer,col_indexer] = value instead\n",
      "\n",
      "See the caveats in the documentation: http://pandas.pydata.org/pandas-docs/stable/indexing.html#indexing-view-versus-copy\n"
     ]
    }
   ],
   "source": [
    "# Strategy 1: use last month's best plan as next month's strategy (plan_c)\n",
    "# for simplicity, select only devices which exists in both months\n",
    "iccid_apr = df_apr.iccid.tolist()\n",
    "df_may_flt = df_may[df_may['iccid'].isin(iccid_apr)]\n",
    "d = df_apr.set_index('iccid')['best_plan'].to_dict()\n",
    "df_may_flt['strategy_1'] = df_may_flt['iccid'].map(d)\n",
    "df_may_flt['cost_with_strategy_1'] = df_may_flt.apply(lambda row: compute_cost_with_plan_and_usage(row['strategy_1'], row['used']), axis=1)\n",
    "df_may_flt['fixed_cost_strategy_1'] = df_may_flt['strategy_1'].apply(get_plan_fix_cost)"
   ]
  },
  {
   "cell_type": "code",
   "execution_count": 122,
   "metadata": {
    "collapsed": false
   },
   "outputs": [
    {
     "data": {
      "text/html": [
       "<div>\n",
       "<style scoped>\n",
       "    .dataframe tbody tr th:only-of-type {\n",
       "        vertical-align: middle;\n",
       "    }\n",
       "\n",
       "    .dataframe tbody tr th {\n",
       "        vertical-align: top;\n",
       "    }\n",
       "\n",
       "    .dataframe thead th {\n",
       "        text-align: right;\n",
       "    }\n",
       "</style>\n",
       "<table border=\"1\" class=\"dataframe\">\n",
       "  <thead>\n",
       "    <tr style=\"text-align: right;\">\n",
       "      <th></th>\n",
       "      <th>iccid</th>\n",
       "      <th>used</th>\n",
       "      <th>plan_c</th>\n",
       "      <th>left</th>\n",
       "      <th>ac_time</th>\n",
       "      <th>product</th>\n",
       "      <th>company</th>\n",
       "      <th>carrier</th>\n",
       "      <th>plan_s</th>\n",
       "      <th>month</th>\n",
       "      <th>best_plan</th>\n",
       "      <th>best_cost</th>\n",
       "      <th>cost_with_plan_c</th>\n",
       "      <th>cost_with_plan_s</th>\n",
       "      <th>actual_cost</th>\n",
       "      <th>strategy_1</th>\n",
       "      <th>cost_with_strategy_1</th>\n",
       "      <th>fixed_cost_strategy_1</th>\n",
       "    </tr>\n",
       "  </thead>\n",
       "  <tbody>\n",
       "    <tr>\n",
       "      <th>626150</th>\n",
       "      <td>898607B4071790000000</td>\n",
       "      <td>7.533</td>\n",
       "      <td>10.0</td>\n",
       "      <td>2.467</td>\n",
       "      <td>2018-01-16 15:21:11</td>\n",
       "      <td>SPB132</td>\n",
       "      <td>挚享科技（上海）有限公司</td>\n",
       "      <td>北京华虹</td>\n",
       "      <td>10.0</td>\n",
       "      <td>5</td>\n",
       "      <td>10</td>\n",
       "      <td>3.0</td>\n",
       "      <td>3.0</td>\n",
       "      <td>3.0</td>\n",
       "      <td>3.0</td>\n",
       "      <td>10</td>\n",
       "      <td>3.000000</td>\n",
       "      <td>3.0</td>\n",
       "    </tr>\n",
       "    <tr>\n",
       "      <th>626151</th>\n",
       "      <td>898607B4071790000001</td>\n",
       "      <td>7.957</td>\n",
       "      <td>10.0</td>\n",
       "      <td>2.043</td>\n",
       "      <td>2018-01-16 15:21:44</td>\n",
       "      <td>SPB132</td>\n",
       "      <td>挚享科技（上海）有限公司</td>\n",
       "      <td>北京华虹</td>\n",
       "      <td>10.0</td>\n",
       "      <td>5</td>\n",
       "      <td>10</td>\n",
       "      <td>3.0</td>\n",
       "      <td>3.0</td>\n",
       "      <td>3.0</td>\n",
       "      <td>3.0</td>\n",
       "      <td>2</td>\n",
       "      <td>7.099968</td>\n",
       "      <td>1.0</td>\n",
       "    </tr>\n",
       "    <tr>\n",
       "      <th>626152</th>\n",
       "      <td>898607B4071790000002</td>\n",
       "      <td>0.000</td>\n",
       "      <td>10.0</td>\n",
       "      <td>10.000</td>\n",
       "      <td>2018-01-16 15:19:09</td>\n",
       "      <td>SPB132</td>\n",
       "      <td>挚享科技（上海）有限公司</td>\n",
       "      <td>北京华虹</td>\n",
       "      <td>10.0</td>\n",
       "      <td>5</td>\n",
       "      <td>0</td>\n",
       "      <td>0.0</td>\n",
       "      <td>3.0</td>\n",
       "      <td>3.0</td>\n",
       "      <td>3.0</td>\n",
       "      <td>0</td>\n",
       "      <td>0.000000</td>\n",
       "      <td>0.0</td>\n",
       "    </tr>\n",
       "    <tr>\n",
       "      <th>626153</th>\n",
       "      <td>898607B4071790000003</td>\n",
       "      <td>0.000</td>\n",
       "      <td>10.0</td>\n",
       "      <td>10.000</td>\n",
       "      <td>2018-02-09 11:10:04</td>\n",
       "      <td>SPB132</td>\n",
       "      <td>挚享科技（上海）有限公司</td>\n",
       "      <td>北京华虹</td>\n",
       "      <td>10.0</td>\n",
       "      <td>5</td>\n",
       "      <td>0</td>\n",
       "      <td>0.0</td>\n",
       "      <td>3.0</td>\n",
       "      <td>3.0</td>\n",
       "      <td>3.0</td>\n",
       "      <td>0</td>\n",
       "      <td>0.000000</td>\n",
       "      <td>0.0</td>\n",
       "    </tr>\n",
       "    <tr>\n",
       "      <th>626154</th>\n",
       "      <td>898607B4071790000004</td>\n",
       "      <td>0.000</td>\n",
       "      <td>10.0</td>\n",
       "      <td>10.000</td>\n",
       "      <td>2018-01-16 15:21:28</td>\n",
       "      <td>SPB132</td>\n",
       "      <td>挚享科技（上海）有限公司</td>\n",
       "      <td>北京华虹</td>\n",
       "      <td>10.0</td>\n",
       "      <td>5</td>\n",
       "      <td>0</td>\n",
       "      <td>0.0</td>\n",
       "      <td>3.0</td>\n",
       "      <td>3.0</td>\n",
       "      <td>3.0</td>\n",
       "      <td>0</td>\n",
       "      <td>0.000000</td>\n",
       "      <td>0.0</td>\n",
       "    </tr>\n",
       "  </tbody>\n",
       "</table>\n",
       "</div>"
      ],
      "text/plain": [
       "                       iccid   used  plan_c    left              ac_time  \\\n",
       "626150  898607B4071790000000  7.533    10.0   2.467  2018-01-16 15:21:11   \n",
       "626151  898607B4071790000001  7.957    10.0   2.043  2018-01-16 15:21:44   \n",
       "626152  898607B4071790000002  0.000    10.0  10.000  2018-01-16 15:19:09   \n",
       "626153  898607B4071790000003  0.000    10.0  10.000  2018-02-09 11:10:04   \n",
       "626154  898607B4071790000004  0.000    10.0  10.000  2018-01-16 15:21:28   \n",
       "\n",
       "       product       company carrier  plan_s  month  best_plan  best_cost  \\\n",
       "626150  SPB132  挚享科技（上海）有限公司    北京华虹    10.0      5         10        3.0   \n",
       "626151  SPB132  挚享科技（上海）有限公司    北京华虹    10.0      5         10        3.0   \n",
       "626152  SPB132  挚享科技（上海）有限公司    北京华虹    10.0      5          0        0.0   \n",
       "626153  SPB132  挚享科技（上海）有限公司    北京华虹    10.0      5          0        0.0   \n",
       "626154  SPB132  挚享科技（上海）有限公司    北京华虹    10.0      5          0        0.0   \n",
       "\n",
       "        cost_with_plan_c  cost_with_plan_s  actual_cost  strategy_1  \\\n",
       "626150               3.0               3.0          3.0          10   \n",
       "626151               3.0               3.0          3.0           2   \n",
       "626152               3.0               3.0          3.0           0   \n",
       "626153               3.0               3.0          3.0           0   \n",
       "626154               3.0               3.0          3.0           0   \n",
       "\n",
       "        cost_with_strategy_1  fixed_cost_strategy_1  \n",
       "626150              3.000000                    3.0  \n",
       "626151              7.099968                    1.0  \n",
       "626152              0.000000                    0.0  \n",
       "626153              0.000000                    0.0  \n",
       "626154              0.000000                    0.0  "
      ]
     },
     "execution_count": 122,
     "metadata": {},
     "output_type": "execute_result"
    }
   ],
   "source": [
    "df_may_flt.head()"
   ]
  },
  {
   "cell_type": "code",
   "execution_count": 145,
   "metadata": {
    "collapsed": false
   },
   "outputs": [
    {
     "name": "stdout",
     "output_type": "stream",
     "text": [
      "Total Devices in May (activated before May): 233203\n",
      "Device with zero used data: 83410\n",
      "\n",
      "No data pool cost:\n",
      "May cost - plan_c   : $746939.47\n",
      "May cost - strategy1: $453354.54\n",
      "May cost - best plan: $340103.69\n",
      "\n",
      "With data pool:\n",
      "May cost - plan_c   : $576415.00\n",
      "May cost - strategy1: $376744.00\n"
     ]
    }
   ],
   "source": [
    "# Cost\n",
    "cnt_device = len(df_may)\n",
    "cnt_device_unused = len(df_may_flt[df_may_flt['used']==0])\n",
    "print(\"Total Devices in May (activated before May): {}\".format(cnt_device))\n",
    "print(\"Device with zero used data: {}\".format(cnt_device_unused))\n",
    "\n",
    "print(\"\\nNo data pool cost:\")\n",
    "print(\"May cost - plan_c   : ${0:.2f}\".format(sum(df_may_flt['cost_with_plan_c'])))\n",
    "print(\"May cost - strategy1: ${0:.2f}\".format(sum(df_may_flt['cost_with_strategy_1'])))\n",
    "print(\"May cost - best plan: ${0:.2f}\".format(sum(df_may_flt['best_cost'])))\n",
    "\n",
    "print(\"\\nWith data pool:\")\n",
    "print(\"May cost - plan_c   : ${0:.2f}\".format(sum(df_may_flt['actual_cost'])))\n",
    "print(\"May cost - strategy1: ${0:.2f}\".format(sum(df_may_flt['fixed_cost_strategy_1'])))"
   ]
  },
  {
   "cell_type": "code",
   "execution_count": 141,
   "metadata": {
    "collapsed": false
   },
   "outputs": [
    {
     "name": "stdout",
     "output_type": "stream",
     "text": [
      "Total usage in May  : 887 GB\n",
      "Total plan_c in May : 2050 GB\n",
      "Total plan_s in May : 2641 GB\n",
      "Total quota with strategy1 in May : 1208 GB\n",
      "Total best plan quota in May : 1081 GB\n"
     ]
    }
   ],
   "source": [
    "# Data usage\n",
    "print(\"Total usage in May  : {0:.0f} GB\".format(sum(df_may_flt['used'])/1024))\n",
    "print(\"Total plan_c in May : {0:.0f} GB\".format(sum(df_may_flt['plan_c'])/1024))\n",
    "print(\"Total plan_s in May : {0:.0f} GB\".format(sum(df_may_flt['plan_s'])/1024))\n",
    "print(\"Total quota with strategy1 in May : {0:.0f} GB\".format(sum(df_may_flt['strategy_1'])/1024))\n",
    "print(\"Total best plan quota in May : {0:.0f} GB\".format(sum(df_may_flt['best_plan'])/1024))"
   ]
  },
  {
   "cell_type": "code",
   "execution_count": null,
   "metadata": {
    "collapsed": true
   },
   "outputs": [],
   "source": []
  }
 ],
 "metadata": {
  "anaconda-cloud": {},
  "kernelspec": {
   "display_name": "Python [default]",
   "language": "python",
   "name": "python3"
  },
  "language_info": {
   "codemirror_mode": {
    "name": "ipython",
    "version": 3
   },
   "file_extension": ".py",
   "mimetype": "text/x-python",
   "name": "python",
   "nbconvert_exporter": "python",
   "pygments_lexer": "ipython3",
   "version": "3.5.2"
  }
 },
 "nbformat": 4,
 "nbformat_minor": 1
}
