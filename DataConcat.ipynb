{
 "cells": [
  {
   "cell_type": "code",
   "execution_count": 1,
   "metadata": {
    "collapsed": true
   },
   "outputs": [],
   "source": [
    "import pandas as pd\n",
    "import os"
   ]
  },
  {
   "cell_type": "code",
   "execution_count": 2,
   "metadata": {
    "collapsed": true
   },
   "outputs": [],
   "source": [
    "schema = {\n",
    "    'iccid': str,\n",
    "    'used': float,\n",
    "    'plan_c': float,\n",
    "    'left': float,\n",
    "    'ac_time': str,\n",
    "    'state': str,\n",
    "    'product': str,\n",
    "    'company': str,\n",
    "    'carrier': str,\n",
    "    'plan_s': float\n",
    "}"
   ]
  },
  {
   "cell_type": "code",
   "execution_count": 3,
   "metadata": {
    "collapsed": false
   },
   "outputs": [],
   "source": [
    "lst_df = []\n",
    "for file in os.listdir(r'./data'):\n",
    "    mth = file[1]\n",
    "    df_tmp = pd.read_csv(os.path.join(r'./data', file), dtype=schema, parse_dates=['ac_time'], infer_datetime_format=True)\n",
    "    # Add month\n",
    "    df_tmp['month'] = mth\n",
    "    lst_df.append(df_tmp)\n",
    "df = pd.concat(lst_df)"
   ]
  },
  {
   "cell_type": "code",
   "execution_count": 4,
   "metadata": {
    "collapsed": false
   },
   "outputs": [
    {
     "data": {
      "text/html": [
       "<div>\n",
       "<style scoped>\n",
       "    .dataframe tbody tr th:only-of-type {\n",
       "        vertical-align: middle;\n",
       "    }\n",
       "\n",
       "    .dataframe tbody tr th {\n",
       "        vertical-align: top;\n",
       "    }\n",
       "\n",
       "    .dataframe thead th {\n",
       "        text-align: right;\n",
       "    }\n",
       "</style>\n",
       "<table border=\"1\" class=\"dataframe\">\n",
       "  <thead>\n",
       "    <tr style=\"text-align: right;\">\n",
       "      <th></th>\n",
       "      <th>iccid</th>\n",
       "      <th>used</th>\n",
       "      <th>plan_c</th>\n",
       "      <th>left</th>\n",
       "      <th>ac_time</th>\n",
       "      <th>state</th>\n",
       "      <th>product</th>\n",
       "      <th>company</th>\n",
       "      <th>carrier</th>\n",
       "      <th>plan_s</th>\n",
       "      <th>month</th>\n",
       "    </tr>\n",
       "  </thead>\n",
       "  <tbody>\n",
       "    <tr>\n",
       "      <th>0</th>\n",
       "      <td>898607B4071790000000</td>\n",
       "      <td>3.931</td>\n",
       "      <td>10.0</td>\n",
       "      <td>6.069</td>\n",
       "      <td>2018-01-16 15:21:11</td>\n",
       "      <td>已激活</td>\n",
       "      <td>SPB132</td>\n",
       "      <td>挚享科技（上海）有限公司</td>\n",
       "      <td>北京华虹</td>\n",
       "      <td>10.0</td>\n",
       "      <td>2</td>\n",
       "    </tr>\n",
       "    <tr>\n",
       "      <th>1</th>\n",
       "      <td>898607B4071790000001</td>\n",
       "      <td>0.000</td>\n",
       "      <td>10.0</td>\n",
       "      <td>10.000</td>\n",
       "      <td>2018-01-16 15:21:44</td>\n",
       "      <td>已激活</td>\n",
       "      <td>SPB132</td>\n",
       "      <td>挚享科技（上海）有限公司</td>\n",
       "      <td>北京华虹</td>\n",
       "      <td>10.0</td>\n",
       "      <td>2</td>\n",
       "    </tr>\n",
       "    <tr>\n",
       "      <th>2</th>\n",
       "      <td>898607B4071790000002</td>\n",
       "      <td>4.877</td>\n",
       "      <td>10.0</td>\n",
       "      <td>5.123</td>\n",
       "      <td>2018-01-16 15:19:09</td>\n",
       "      <td>已激活</td>\n",
       "      <td>SPB132</td>\n",
       "      <td>挚享科技（上海）有限公司</td>\n",
       "      <td>北京华虹</td>\n",
       "      <td>10.0</td>\n",
       "      <td>2</td>\n",
       "    </tr>\n",
       "    <tr>\n",
       "      <th>3</th>\n",
       "      <td>898607B4071790000003</td>\n",
       "      <td>4.259</td>\n",
       "      <td>10.0</td>\n",
       "      <td>5.741</td>\n",
       "      <td>2018-02-09 11:10:04</td>\n",
       "      <td>已激活</td>\n",
       "      <td>SPB132</td>\n",
       "      <td>挚享科技（上海）有限公司</td>\n",
       "      <td>北京华虹</td>\n",
       "      <td>10.0</td>\n",
       "      <td>2</td>\n",
       "    </tr>\n",
       "    <tr>\n",
       "      <th>4</th>\n",
       "      <td>898607B4071790000004</td>\n",
       "      <td>1.740</td>\n",
       "      <td>10.0</td>\n",
       "      <td>8.260</td>\n",
       "      <td>2018-01-16 15:21:28</td>\n",
       "      <td>已激活</td>\n",
       "      <td>SPB132</td>\n",
       "      <td>挚享科技（上海）有限公司</td>\n",
       "      <td>北京华虹</td>\n",
       "      <td>10.0</td>\n",
       "      <td>2</td>\n",
       "    </tr>\n",
       "  </tbody>\n",
       "</table>\n",
       "</div>"
      ],
      "text/plain": [
       "                  iccid   used  plan_c    left             ac_time state  \\\n",
       "0  898607B4071790000000  3.931    10.0   6.069 2018-01-16 15:21:11   已激活   \n",
       "1  898607B4071790000001  0.000    10.0  10.000 2018-01-16 15:21:44   已激活   \n",
       "2  898607B4071790000002  4.877    10.0   5.123 2018-01-16 15:19:09   已激活   \n",
       "3  898607B4071790000003  4.259    10.0   5.741 2018-02-09 11:10:04   已激活   \n",
       "4  898607B4071790000004  1.740    10.0   8.260 2018-01-16 15:21:28   已激活   \n",
       "\n",
       "  product       company carrier  plan_s month  \n",
       "0  SPB132  挚享科技（上海）有限公司    北京华虹    10.0     2  \n",
       "1  SPB132  挚享科技（上海）有限公司    北京华虹    10.0     2  \n",
       "2  SPB132  挚享科技（上海）有限公司    北京华虹    10.0     2  \n",
       "3  SPB132  挚享科技（上海）有限公司    北京华虹    10.0     2  \n",
       "4  SPB132  挚享科技（上海）有限公司    北京华虹    10.0     2  "
      ]
     },
     "execution_count": 4,
     "metadata": {},
     "output_type": "execute_result"
    }
   ],
   "source": [
    "df.head()"
   ]
  },
  {
   "cell_type": "code",
   "execution_count": 5,
   "metadata": {
    "collapsed": true
   },
   "outputs": [],
   "source": [
    "# Write output\n",
    "df.to_csv('data.csv', encoding='utf-8', index=False)"
   ]
  },
  {
   "cell_type": "code",
   "execution_count": 6,
   "metadata": {
    "collapsed": false
   },
   "outputs": [
    {
     "data": {
      "text/plain": [
       "iccid              object\n",
       "used              float64\n",
       "plan_c            float64\n",
       "left              float64\n",
       "ac_time    datetime64[ns]\n",
       "state              object\n",
       "product            object\n",
       "company            object\n",
       "carrier            object\n",
       "plan_s            float64\n",
       "month              object\n",
       "dtype: object"
      ]
     },
     "execution_count": 6,
     "metadata": {},
     "output_type": "execute_result"
    }
   ],
   "source": [
    "df.dtypes"
   ]
  },
  {
   "cell_type": "code",
   "execution_count": null,
   "metadata": {
    "collapsed": true
   },
   "outputs": [],
   "source": [
    ""
   ]
  }
 ],
 "metadata": {
  "anaconda-cloud": {},
  "kernelspec": {
   "display_name": "Python [default]",
   "language": "python",
   "name": "python3"
  },
  "language_info": {
   "codemirror_mode": {
    "name": "ipython",
    "version": 3.0
   },
   "file_extension": ".py",
   "mimetype": "text/x-python",
   "name": "python",
   "nbconvert_exporter": "python",
   "pygments_lexer": "ipython3",
   "version": "3.5.2"
  }
 },
 "nbformat": 4,
 "nbformat_minor": 0
}